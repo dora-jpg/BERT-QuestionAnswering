{
  "metadata": {
    "kernelspec": {
      "language": "python",
      "display_name": "Python 3",
      "name": "python3"
    },
    "language_info": {
      "name": "python",
      "version": "3.7.12",
      "mimetype": "text/x-python",
      "codemirror_mode": {
        "name": "ipython",
        "version": 3
      },
      "pygments_lexer": "ipython3",
      "nbconvert_exporter": "python",
      "file_extension": ".py"
    },
    "colab": {
      "name": "question2_paradoteo.ipynb",
      "provenance": [],
      "collapsed_sections": [],
      "toc_visible": true
    },
    "widgets": {
      "application/vnd.jupyter.widget-state+json": {
        "6bad2bfa95c14750876410c208812754": {
          "model_module": "@jupyter-widgets/controls",
          "model_name": "HBoxModel",
          "model_module_version": "1.5.0",
          "state": {
            "_dom_classes": [],
            "_model_module": "@jupyter-widgets/controls",
            "_model_module_version": "1.5.0",
            "_model_name": "HBoxModel",
            "_view_count": null,
            "_view_module": "@jupyter-widgets/controls",
            "_view_module_version": "1.5.0",
            "_view_name": "HBoxView",
            "box_style": "",
            "children": [
              "IPY_MODEL_4f10b1c3d66e4548b3505738546566e6",
              "IPY_MODEL_628f0ce25ac84acc80964f87b1d15a37",
              "IPY_MODEL_b0b9e77b069c499fba22604a3d6e1311"
            ],
            "layout": "IPY_MODEL_c7967dc46b934c67aa1e0ff2c17f1891"
          }
        },
        "4f10b1c3d66e4548b3505738546566e6": {
          "model_module": "@jupyter-widgets/controls",
          "model_name": "HTMLModel",
          "model_module_version": "1.5.0",
          "state": {
            "_dom_classes": [],
            "_model_module": "@jupyter-widgets/controls",
            "_model_module_version": "1.5.0",
            "_model_name": "HTMLModel",
            "_view_count": null,
            "_view_module": "@jupyter-widgets/controls",
            "_view_module_version": "1.5.0",
            "_view_name": "HTMLView",
            "description": "",
            "description_tooltip": null,
            "layout": "IPY_MODEL_d1c1c269da2146eeab7e5c836b7ef636",
            "placeholder": "​",
            "style": "IPY_MODEL_37dab352f0cd428a9c50ed773182dac5",
            "value": "Downloading: "
          }
        },
        "628f0ce25ac84acc80964f87b1d15a37": {
          "model_module": "@jupyter-widgets/controls",
          "model_name": "FloatProgressModel",
          "model_module_version": "1.5.0",
          "state": {
            "_dom_classes": [],
            "_model_module": "@jupyter-widgets/controls",
            "_model_module_version": "1.5.0",
            "_model_name": "FloatProgressModel",
            "_view_count": null,
            "_view_module": "@jupyter-widgets/controls",
            "_view_module_version": "1.5.0",
            "_view_name": "ProgressView",
            "bar_style": "success",
            "description": "",
            "description_tooltip": null,
            "layout": "IPY_MODEL_381d4b228e024ce698844c2b84aba1a3",
            "max": 1869,
            "min": 0,
            "orientation": "horizontal",
            "style": "IPY_MODEL_078ab3d4f06f4c869340275dbc454403",
            "value": 1869
          }
        },
        "b0b9e77b069c499fba22604a3d6e1311": {
          "model_module": "@jupyter-widgets/controls",
          "model_name": "HTMLModel",
          "model_module_version": "1.5.0",
          "state": {
            "_dom_classes": [],
            "_model_module": "@jupyter-widgets/controls",
            "_model_module_version": "1.5.0",
            "_model_name": "HTMLModel",
            "_view_count": null,
            "_view_module": "@jupyter-widgets/controls",
            "_view_module_version": "1.5.0",
            "_view_name": "HTMLView",
            "description": "",
            "description_tooltip": null,
            "layout": "IPY_MODEL_a6dda77c20f6407ea97d8be701178675",
            "placeholder": "​",
            "style": "IPY_MODEL_55dd2971308449cfa597d1cdb2f129a5",
            "value": " 5.28k/? [00:00&lt;00:00, 112kB/s]"
          }
        },
        "c7967dc46b934c67aa1e0ff2c17f1891": {
          "model_module": "@jupyter-widgets/base",
          "model_name": "LayoutModel",
          "model_module_version": "1.2.0",
          "state": {
            "_model_module": "@jupyter-widgets/base",
            "_model_module_version": "1.2.0",
            "_model_name": "LayoutModel",
            "_view_count": null,
            "_view_module": "@jupyter-widgets/base",
            "_view_module_version": "1.2.0",
            "_view_name": "LayoutView",
            "align_content": null,
            "align_items": null,
            "align_self": null,
            "border": null,
            "bottom": null,
            "display": null,
            "flex": null,
            "flex_flow": null,
            "grid_area": null,
            "grid_auto_columns": null,
            "grid_auto_flow": null,
            "grid_auto_rows": null,
            "grid_column": null,
            "grid_gap": null,
            "grid_row": null,
            "grid_template_areas": null,
            "grid_template_columns": null,
            "grid_template_rows": null,
            "height": null,
            "justify_content": null,
            "justify_items": null,
            "left": null,
            "margin": null,
            "max_height": null,
            "max_width": null,
            "min_height": null,
            "min_width": null,
            "object_fit": null,
            "object_position": null,
            "order": null,
            "overflow": null,
            "overflow_x": null,
            "overflow_y": null,
            "padding": null,
            "right": null,
            "top": null,
            "visibility": null,
            "width": null
          }
        },
        "d1c1c269da2146eeab7e5c836b7ef636": {
          "model_module": "@jupyter-widgets/base",
          "model_name": "LayoutModel",
          "model_module_version": "1.2.0",
          "state": {
            "_model_module": "@jupyter-widgets/base",
            "_model_module_version": "1.2.0",
            "_model_name": "LayoutModel",
            "_view_count": null,
            "_view_module": "@jupyter-widgets/base",
            "_view_module_version": "1.2.0",
            "_view_name": "LayoutView",
            "align_content": null,
            "align_items": null,
            "align_self": null,
            "border": null,
            "bottom": null,
            "display": null,
            "flex": null,
            "flex_flow": null,
            "grid_area": null,
            "grid_auto_columns": null,
            "grid_auto_flow": null,
            "grid_auto_rows": null,
            "grid_column": null,
            "grid_gap": null,
            "grid_row": null,
            "grid_template_areas": null,
            "grid_template_columns": null,
            "grid_template_rows": null,
            "height": null,
            "justify_content": null,
            "justify_items": null,
            "left": null,
            "margin": null,
            "max_height": null,
            "max_width": null,
            "min_height": null,
            "min_width": null,
            "object_fit": null,
            "object_position": null,
            "order": null,
            "overflow": null,
            "overflow_x": null,
            "overflow_y": null,
            "padding": null,
            "right": null,
            "top": null,
            "visibility": null,
            "width": null
          }
        },
        "37dab352f0cd428a9c50ed773182dac5": {
          "model_module": "@jupyter-widgets/controls",
          "model_name": "DescriptionStyleModel",
          "model_module_version": "1.5.0",
          "state": {
            "_model_module": "@jupyter-widgets/controls",
            "_model_module_version": "1.5.0",
            "_model_name": "DescriptionStyleModel",
            "_view_count": null,
            "_view_module": "@jupyter-widgets/base",
            "_view_module_version": "1.2.0",
            "_view_name": "StyleView",
            "description_width": ""
          }
        },
        "381d4b228e024ce698844c2b84aba1a3": {
          "model_module": "@jupyter-widgets/base",
          "model_name": "LayoutModel",
          "model_module_version": "1.2.0",
          "state": {
            "_model_module": "@jupyter-widgets/base",
            "_model_module_version": "1.2.0",
            "_model_name": "LayoutModel",
            "_view_count": null,
            "_view_module": "@jupyter-widgets/base",
            "_view_module_version": "1.2.0",
            "_view_name": "LayoutView",
            "align_content": null,
            "align_items": null,
            "align_self": null,
            "border": null,
            "bottom": null,
            "display": null,
            "flex": null,
            "flex_flow": null,
            "grid_area": null,
            "grid_auto_columns": null,
            "grid_auto_flow": null,
            "grid_auto_rows": null,
            "grid_column": null,
            "grid_gap": null,
            "grid_row": null,
            "grid_template_areas": null,
            "grid_template_columns": null,
            "grid_template_rows": null,
            "height": null,
            "justify_content": null,
            "justify_items": null,
            "left": null,
            "margin": null,
            "max_height": null,
            "max_width": null,
            "min_height": null,
            "min_width": null,
            "object_fit": null,
            "object_position": null,
            "order": null,
            "overflow": null,
            "overflow_x": null,
            "overflow_y": null,
            "padding": null,
            "right": null,
            "top": null,
            "visibility": null,
            "width": null
          }
        },
        "078ab3d4f06f4c869340275dbc454403": {
          "model_module": "@jupyter-widgets/controls",
          "model_name": "ProgressStyleModel",
          "model_module_version": "1.5.0",
          "state": {
            "_model_module": "@jupyter-widgets/controls",
            "_model_module_version": "1.5.0",
            "_model_name": "ProgressStyleModel",
            "_view_count": null,
            "_view_module": "@jupyter-widgets/base",
            "_view_module_version": "1.2.0",
            "_view_name": "StyleView",
            "bar_color": null,
            "description_width": ""
          }
        },
        "a6dda77c20f6407ea97d8be701178675": {
          "model_module": "@jupyter-widgets/base",
          "model_name": "LayoutModel",
          "model_module_version": "1.2.0",
          "state": {
            "_model_module": "@jupyter-widgets/base",
            "_model_module_version": "1.2.0",
            "_model_name": "LayoutModel",
            "_view_count": null,
            "_view_module": "@jupyter-widgets/base",
            "_view_module_version": "1.2.0",
            "_view_name": "LayoutView",
            "align_content": null,
            "align_items": null,
            "align_self": null,
            "border": null,
            "bottom": null,
            "display": null,
            "flex": null,
            "flex_flow": null,
            "grid_area": null,
            "grid_auto_columns": null,
            "grid_auto_flow": null,
            "grid_auto_rows": null,
            "grid_column": null,
            "grid_gap": null,
            "grid_row": null,
            "grid_template_areas": null,
            "grid_template_columns": null,
            "grid_template_rows": null,
            "height": null,
            "justify_content": null,
            "justify_items": null,
            "left": null,
            "margin": null,
            "max_height": null,
            "max_width": null,
            "min_height": null,
            "min_width": null,
            "object_fit": null,
            "object_position": null,
            "order": null,
            "overflow": null,
            "overflow_x": null,
            "overflow_y": null,
            "padding": null,
            "right": null,
            "top": null,
            "visibility": null,
            "width": null
          }
        },
        "55dd2971308449cfa597d1cdb2f129a5": {
          "model_module": "@jupyter-widgets/controls",
          "model_name": "DescriptionStyleModel",
          "model_module_version": "1.5.0",
          "state": {
            "_model_module": "@jupyter-widgets/controls",
            "_model_module_version": "1.5.0",
            "_model_name": "DescriptionStyleModel",
            "_view_count": null,
            "_view_module": "@jupyter-widgets/base",
            "_view_module_version": "1.2.0",
            "_view_name": "StyleView",
            "description_width": ""
          }
        },
        "4fd1b1392dc1442595af9cc0f9abc019": {
          "model_module": "@jupyter-widgets/controls",
          "model_name": "HBoxModel",
          "model_module_version": "1.5.0",
          "state": {
            "_dom_classes": [],
            "_model_module": "@jupyter-widgets/controls",
            "_model_module_version": "1.5.0",
            "_model_name": "HBoxModel",
            "_view_count": null,
            "_view_module": "@jupyter-widgets/controls",
            "_view_module_version": "1.5.0",
            "_view_name": "HBoxView",
            "box_style": "",
            "children": [
              "IPY_MODEL_c12cf00be78c4c6599c2fbe53abe7a73",
              "IPY_MODEL_192c92eb9beb4cd88ef4a25f66526b01",
              "IPY_MODEL_2ec522cd36274933aea9b7e45ec3d4b1"
            ],
            "layout": "IPY_MODEL_6db23170a57e4fdf928eee915340755f"
          }
        },
        "c12cf00be78c4c6599c2fbe53abe7a73": {
          "model_module": "@jupyter-widgets/controls",
          "model_name": "HTMLModel",
          "model_module_version": "1.5.0",
          "state": {
            "_dom_classes": [],
            "_model_module": "@jupyter-widgets/controls",
            "_model_module_version": "1.5.0",
            "_model_name": "HTMLModel",
            "_view_count": null,
            "_view_module": "@jupyter-widgets/controls",
            "_view_module_version": "1.5.0",
            "_view_name": "HTMLView",
            "description": "",
            "description_tooltip": null,
            "layout": "IPY_MODEL_f65945b9f1384c6eb2f4a315f3205c16",
            "placeholder": "​",
            "style": "IPY_MODEL_6dde85a030bf46c881a811a2f8d69b8a",
            "value": "Downloading: "
          }
        },
        "192c92eb9beb4cd88ef4a25f66526b01": {
          "model_module": "@jupyter-widgets/controls",
          "model_name": "FloatProgressModel",
          "model_module_version": "1.5.0",
          "state": {
            "_dom_classes": [],
            "_model_module": "@jupyter-widgets/controls",
            "_model_module_version": "1.5.0",
            "_model_name": "FloatProgressModel",
            "_view_count": null,
            "_view_module": "@jupyter-widgets/controls",
            "_view_module_version": "1.5.0",
            "_view_name": "ProgressView",
            "bar_style": "success",
            "description": "",
            "description_tooltip": null,
            "layout": "IPY_MODEL_f6d51807673a4eac91134688d5389b4a",
            "max": 1024,
            "min": 0,
            "orientation": "horizontal",
            "style": "IPY_MODEL_505bb482853c40a48c174d4ffd078d06",
            "value": 1024
          }
        },
        "2ec522cd36274933aea9b7e45ec3d4b1": {
          "model_module": "@jupyter-widgets/controls",
          "model_name": "HTMLModel",
          "model_module_version": "1.5.0",
          "state": {
            "_dom_classes": [],
            "_model_module": "@jupyter-widgets/controls",
            "_model_module_version": "1.5.0",
            "_model_name": "HTMLModel",
            "_view_count": null,
            "_view_module": "@jupyter-widgets/controls",
            "_view_module_version": "1.5.0",
            "_view_name": "HTMLView",
            "description": "",
            "description_tooltip": null,
            "layout": "IPY_MODEL_e21e9a8e78de4be5ae852b3d7d2cc873",
            "placeholder": "​",
            "style": "IPY_MODEL_7c975c8a1f284e1c9cf76b374ab2d5a5",
            "value": " 2.40k/? [00:00&lt;00:00, 27.6kB/s]"
          }
        },
        "6db23170a57e4fdf928eee915340755f": {
          "model_module": "@jupyter-widgets/base",
          "model_name": "LayoutModel",
          "model_module_version": "1.2.0",
          "state": {
            "_model_module": "@jupyter-widgets/base",
            "_model_module_version": "1.2.0",
            "_model_name": "LayoutModel",
            "_view_count": null,
            "_view_module": "@jupyter-widgets/base",
            "_view_module_version": "1.2.0",
            "_view_name": "LayoutView",
            "align_content": null,
            "align_items": null,
            "align_self": null,
            "border": null,
            "bottom": null,
            "display": null,
            "flex": null,
            "flex_flow": null,
            "grid_area": null,
            "grid_auto_columns": null,
            "grid_auto_flow": null,
            "grid_auto_rows": null,
            "grid_column": null,
            "grid_gap": null,
            "grid_row": null,
            "grid_template_areas": null,
            "grid_template_columns": null,
            "grid_template_rows": null,
            "height": null,
            "justify_content": null,
            "justify_items": null,
            "left": null,
            "margin": null,
            "max_height": null,
            "max_width": null,
            "min_height": null,
            "min_width": null,
            "object_fit": null,
            "object_position": null,
            "order": null,
            "overflow": null,
            "overflow_x": null,
            "overflow_y": null,
            "padding": null,
            "right": null,
            "top": null,
            "visibility": null,
            "width": null
          }
        },
        "f65945b9f1384c6eb2f4a315f3205c16": {
          "model_module": "@jupyter-widgets/base",
          "model_name": "LayoutModel",
          "model_module_version": "1.2.0",
          "state": {
            "_model_module": "@jupyter-widgets/base",
            "_model_module_version": "1.2.0",
            "_model_name": "LayoutModel",
            "_view_count": null,
            "_view_module": "@jupyter-widgets/base",
            "_view_module_version": "1.2.0",
            "_view_name": "LayoutView",
            "align_content": null,
            "align_items": null,
            "align_self": null,
            "border": null,
            "bottom": null,
            "display": null,
            "flex": null,
            "flex_flow": null,
            "grid_area": null,
            "grid_auto_columns": null,
            "grid_auto_flow": null,
            "grid_auto_rows": null,
            "grid_column": null,
            "grid_gap": null,
            "grid_row": null,
            "grid_template_areas": null,
            "grid_template_columns": null,
            "grid_template_rows": null,
            "height": null,
            "justify_content": null,
            "justify_items": null,
            "left": null,
            "margin": null,
            "max_height": null,
            "max_width": null,
            "min_height": null,
            "min_width": null,
            "object_fit": null,
            "object_position": null,
            "order": null,
            "overflow": null,
            "overflow_x": null,
            "overflow_y": null,
            "padding": null,
            "right": null,
            "top": null,
            "visibility": null,
            "width": null
          }
        },
        "6dde85a030bf46c881a811a2f8d69b8a": {
          "model_module": "@jupyter-widgets/controls",
          "model_name": "DescriptionStyleModel",
          "model_module_version": "1.5.0",
          "state": {
            "_model_module": "@jupyter-widgets/controls",
            "_model_module_version": "1.5.0",
            "_model_name": "DescriptionStyleModel",
            "_view_count": null,
            "_view_module": "@jupyter-widgets/base",
            "_view_module_version": "1.2.0",
            "_view_name": "StyleView",
            "description_width": ""
          }
        },
        "f6d51807673a4eac91134688d5389b4a": {
          "model_module": "@jupyter-widgets/base",
          "model_name": "LayoutModel",
          "model_module_version": "1.2.0",
          "state": {
            "_model_module": "@jupyter-widgets/base",
            "_model_module_version": "1.2.0",
            "_model_name": "LayoutModel",
            "_view_count": null,
            "_view_module": "@jupyter-widgets/base",
            "_view_module_version": "1.2.0",
            "_view_name": "LayoutView",
            "align_content": null,
            "align_items": null,
            "align_self": null,
            "border": null,
            "bottom": null,
            "display": null,
            "flex": null,
            "flex_flow": null,
            "grid_area": null,
            "grid_auto_columns": null,
            "grid_auto_flow": null,
            "grid_auto_rows": null,
            "grid_column": null,
            "grid_gap": null,
            "grid_row": null,
            "grid_template_areas": null,
            "grid_template_columns": null,
            "grid_template_rows": null,
            "height": null,
            "justify_content": null,
            "justify_items": null,
            "left": null,
            "margin": null,
            "max_height": null,
            "max_width": null,
            "min_height": null,
            "min_width": null,
            "object_fit": null,
            "object_position": null,
            "order": null,
            "overflow": null,
            "overflow_x": null,
            "overflow_y": null,
            "padding": null,
            "right": null,
            "top": null,
            "visibility": null,
            "width": null
          }
        },
        "505bb482853c40a48c174d4ffd078d06": {
          "model_module": "@jupyter-widgets/controls",
          "model_name": "ProgressStyleModel",
          "model_module_version": "1.5.0",
          "state": {
            "_model_module": "@jupyter-widgets/controls",
            "_model_module_version": "1.5.0",
            "_model_name": "ProgressStyleModel",
            "_view_count": null,
            "_view_module": "@jupyter-widgets/base",
            "_view_module_version": "1.2.0",
            "_view_name": "StyleView",
            "bar_color": null,
            "description_width": ""
          }
        },
        "e21e9a8e78de4be5ae852b3d7d2cc873": {
          "model_module": "@jupyter-widgets/base",
          "model_name": "LayoutModel",
          "model_module_version": "1.2.0",
          "state": {
            "_model_module": "@jupyter-widgets/base",
            "_model_module_version": "1.2.0",
            "_model_name": "LayoutModel",
            "_view_count": null,
            "_view_module": "@jupyter-widgets/base",
            "_view_module_version": "1.2.0",
            "_view_name": "LayoutView",
            "align_content": null,
            "align_items": null,
            "align_self": null,
            "border": null,
            "bottom": null,
            "display": null,
            "flex": null,
            "flex_flow": null,
            "grid_area": null,
            "grid_auto_columns": null,
            "grid_auto_flow": null,
            "grid_auto_rows": null,
            "grid_column": null,
            "grid_gap": null,
            "grid_row": null,
            "grid_template_areas": null,
            "grid_template_columns": null,
            "grid_template_rows": null,
            "height": null,
            "justify_content": null,
            "justify_items": null,
            "left": null,
            "margin": null,
            "max_height": null,
            "max_width": null,
            "min_height": null,
            "min_width": null,
            "object_fit": null,
            "object_position": null,
            "order": null,
            "overflow": null,
            "overflow_x": null,
            "overflow_y": null,
            "padding": null,
            "right": null,
            "top": null,
            "visibility": null,
            "width": null
          }
        },
        "7c975c8a1f284e1c9cf76b374ab2d5a5": {
          "model_module": "@jupyter-widgets/controls",
          "model_name": "DescriptionStyleModel",
          "model_module_version": "1.5.0",
          "state": {
            "_model_module": "@jupyter-widgets/controls",
            "_model_module_version": "1.5.0",
            "_model_name": "DescriptionStyleModel",
            "_view_count": null,
            "_view_module": "@jupyter-widgets/base",
            "_view_module_version": "1.2.0",
            "_view_name": "StyleView",
            "description_width": ""
          }
        },
        "c93abf2eafd1459885e2380b3e4020be": {
          "model_module": "@jupyter-widgets/controls",
          "model_name": "HBoxModel",
          "model_module_version": "1.5.0",
          "state": {
            "_dom_classes": [],
            "_model_module": "@jupyter-widgets/controls",
            "_model_module_version": "1.5.0",
            "_model_name": "HBoxModel",
            "_view_count": null,
            "_view_module": "@jupyter-widgets/controls",
            "_view_module_version": "1.5.0",
            "_view_name": "HBoxView",
            "box_style": "",
            "children": [
              "IPY_MODEL_c71d4215cff240d98a9e682936c3bad8",
              "IPY_MODEL_d11b00e053044e8f948e748bbee29f3a",
              "IPY_MODEL_df25cbbf1fdb4da1b4193fb979c77ddd"
            ],
            "layout": "IPY_MODEL_bde03e11cebc4b8bb2ba983960f4f708"
          }
        },
        "c71d4215cff240d98a9e682936c3bad8": {
          "model_module": "@jupyter-widgets/controls",
          "model_name": "HTMLModel",
          "model_module_version": "1.5.0",
          "state": {
            "_dom_classes": [],
            "_model_module": "@jupyter-widgets/controls",
            "_model_module_version": "1.5.0",
            "_model_name": "HTMLModel",
            "_view_count": null,
            "_view_module": "@jupyter-widgets/controls",
            "_view_module_version": "1.5.0",
            "_view_name": "HTMLView",
            "description": "",
            "description_tooltip": null,
            "layout": "IPY_MODEL_557e935631094ebfb282d9469d7ee4a3",
            "placeholder": "​",
            "style": "IPY_MODEL_b596ffe274264510887749bdd927e1c3",
            "value": "100%"
          }
        },
        "d11b00e053044e8f948e748bbee29f3a": {
          "model_module": "@jupyter-widgets/controls",
          "model_name": "FloatProgressModel",
          "model_module_version": "1.5.0",
          "state": {
            "_dom_classes": [],
            "_model_module": "@jupyter-widgets/controls",
            "_model_module_version": "1.5.0",
            "_model_name": "FloatProgressModel",
            "_view_count": null,
            "_view_module": "@jupyter-widgets/controls",
            "_view_module_version": "1.5.0",
            "_view_name": "ProgressView",
            "bar_style": "success",
            "description": "",
            "description_tooltip": null,
            "layout": "IPY_MODEL_60b94ae30f264acfa8ea319c45aa0738",
            "max": 2,
            "min": 0,
            "orientation": "horizontal",
            "style": "IPY_MODEL_9874aabe683d4d368045e1a65eed0ad7",
            "value": 2
          }
        },
        "df25cbbf1fdb4da1b4193fb979c77ddd": {
          "model_module": "@jupyter-widgets/controls",
          "model_name": "HTMLModel",
          "model_module_version": "1.5.0",
          "state": {
            "_dom_classes": [],
            "_model_module": "@jupyter-widgets/controls",
            "_model_module_version": "1.5.0",
            "_model_name": "HTMLModel",
            "_view_count": null,
            "_view_module": "@jupyter-widgets/controls",
            "_view_module_version": "1.5.0",
            "_view_name": "HTMLView",
            "description": "",
            "description_tooltip": null,
            "layout": "IPY_MODEL_21c97e186b3a46528c700aa454b57fdb",
            "placeholder": "​",
            "style": "IPY_MODEL_6b1955b5c3464ab4b28ad78458a1b6d4",
            "value": " 2/2 [00:02&lt;00:00,  1.05s/it]"
          }
        },
        "bde03e11cebc4b8bb2ba983960f4f708": {
          "model_module": "@jupyter-widgets/base",
          "model_name": "LayoutModel",
          "model_module_version": "1.2.0",
          "state": {
            "_model_module": "@jupyter-widgets/base",
            "_model_module_version": "1.2.0",
            "_model_name": "LayoutModel",
            "_view_count": null,
            "_view_module": "@jupyter-widgets/base",
            "_view_module_version": "1.2.0",
            "_view_name": "LayoutView",
            "align_content": null,
            "align_items": null,
            "align_self": null,
            "border": null,
            "bottom": null,
            "display": null,
            "flex": null,
            "flex_flow": null,
            "grid_area": null,
            "grid_auto_columns": null,
            "grid_auto_flow": null,
            "grid_auto_rows": null,
            "grid_column": null,
            "grid_gap": null,
            "grid_row": null,
            "grid_template_areas": null,
            "grid_template_columns": null,
            "grid_template_rows": null,
            "height": null,
            "justify_content": null,
            "justify_items": null,
            "left": null,
            "margin": null,
            "max_height": null,
            "max_width": null,
            "min_height": null,
            "min_width": null,
            "object_fit": null,
            "object_position": null,
            "order": null,
            "overflow": null,
            "overflow_x": null,
            "overflow_y": null,
            "padding": null,
            "right": null,
            "top": null,
            "visibility": null,
            "width": null
          }
        },
        "557e935631094ebfb282d9469d7ee4a3": {
          "model_module": "@jupyter-widgets/base",
          "model_name": "LayoutModel",
          "model_module_version": "1.2.0",
          "state": {
            "_model_module": "@jupyter-widgets/base",
            "_model_module_version": "1.2.0",
            "_model_name": "LayoutModel",
            "_view_count": null,
            "_view_module": "@jupyter-widgets/base",
            "_view_module_version": "1.2.0",
            "_view_name": "LayoutView",
            "align_content": null,
            "align_items": null,
            "align_self": null,
            "border": null,
            "bottom": null,
            "display": null,
            "flex": null,
            "flex_flow": null,
            "grid_area": null,
            "grid_auto_columns": null,
            "grid_auto_flow": null,
            "grid_auto_rows": null,
            "grid_column": null,
            "grid_gap": null,
            "grid_row": null,
            "grid_template_areas": null,
            "grid_template_columns": null,
            "grid_template_rows": null,
            "height": null,
            "justify_content": null,
            "justify_items": null,
            "left": null,
            "margin": null,
            "max_height": null,
            "max_width": null,
            "min_height": null,
            "min_width": null,
            "object_fit": null,
            "object_position": null,
            "order": null,
            "overflow": null,
            "overflow_x": null,
            "overflow_y": null,
            "padding": null,
            "right": null,
            "top": null,
            "visibility": null,
            "width": null
          }
        },
        "b596ffe274264510887749bdd927e1c3": {
          "model_module": "@jupyter-widgets/controls",
          "model_name": "DescriptionStyleModel",
          "model_module_version": "1.5.0",
          "state": {
            "_model_module": "@jupyter-widgets/controls",
            "_model_module_version": "1.5.0",
            "_model_name": "DescriptionStyleModel",
            "_view_count": null,
            "_view_module": "@jupyter-widgets/base",
            "_view_module_version": "1.2.0",
            "_view_name": "StyleView",
            "description_width": ""
          }
        },
        "60b94ae30f264acfa8ea319c45aa0738": {
          "model_module": "@jupyter-widgets/base",
          "model_name": "LayoutModel",
          "model_module_version": "1.2.0",
          "state": {
            "_model_module": "@jupyter-widgets/base",
            "_model_module_version": "1.2.0",
            "_model_name": "LayoutModel",
            "_view_count": null,
            "_view_module": "@jupyter-widgets/base",
            "_view_module_version": "1.2.0",
            "_view_name": "LayoutView",
            "align_content": null,
            "align_items": null,
            "align_self": null,
            "border": null,
            "bottom": null,
            "display": null,
            "flex": null,
            "flex_flow": null,
            "grid_area": null,
            "grid_auto_columns": null,
            "grid_auto_flow": null,
            "grid_auto_rows": null,
            "grid_column": null,
            "grid_gap": null,
            "grid_row": null,
            "grid_template_areas": null,
            "grid_template_columns": null,
            "grid_template_rows": null,
            "height": null,
            "justify_content": null,
            "justify_items": null,
            "left": null,
            "margin": null,
            "max_height": null,
            "max_width": null,
            "min_height": null,
            "min_width": null,
            "object_fit": null,
            "object_position": null,
            "order": null,
            "overflow": null,
            "overflow_x": null,
            "overflow_y": null,
            "padding": null,
            "right": null,
            "top": null,
            "visibility": null,
            "width": null
          }
        },
        "9874aabe683d4d368045e1a65eed0ad7": {
          "model_module": "@jupyter-widgets/controls",
          "model_name": "ProgressStyleModel",
          "model_module_version": "1.5.0",
          "state": {
            "_model_module": "@jupyter-widgets/controls",
            "_model_module_version": "1.5.0",
            "_model_name": "ProgressStyleModel",
            "_view_count": null,
            "_view_module": "@jupyter-widgets/base",
            "_view_module_version": "1.2.0",
            "_view_name": "StyleView",
            "bar_color": null,
            "description_width": ""
          }
        },
        "21c97e186b3a46528c700aa454b57fdb": {
          "model_module": "@jupyter-widgets/base",
          "model_name": "LayoutModel",
          "model_module_version": "1.2.0",
          "state": {
            "_model_module": "@jupyter-widgets/base",
            "_model_module_version": "1.2.0",
            "_model_name": "LayoutModel",
            "_view_count": null,
            "_view_module": "@jupyter-widgets/base",
            "_view_module_version": "1.2.0",
            "_view_name": "LayoutView",
            "align_content": null,
            "align_items": null,
            "align_self": null,
            "border": null,
            "bottom": null,
            "display": null,
            "flex": null,
            "flex_flow": null,
            "grid_area": null,
            "grid_auto_columns": null,
            "grid_auto_flow": null,
            "grid_auto_rows": null,
            "grid_column": null,
            "grid_gap": null,
            "grid_row": null,
            "grid_template_areas": null,
            "grid_template_columns": null,
            "grid_template_rows": null,
            "height": null,
            "justify_content": null,
            "justify_items": null,
            "left": null,
            "margin": null,
            "max_height": null,
            "max_width": null,
            "min_height": null,
            "min_width": null,
            "object_fit": null,
            "object_position": null,
            "order": null,
            "overflow": null,
            "overflow_x": null,
            "overflow_y": null,
            "padding": null,
            "right": null,
            "top": null,
            "visibility": null,
            "width": null
          }
        },
        "6b1955b5c3464ab4b28ad78458a1b6d4": {
          "model_module": "@jupyter-widgets/controls",
          "model_name": "DescriptionStyleModel",
          "model_module_version": "1.5.0",
          "state": {
            "_model_module": "@jupyter-widgets/controls",
            "_model_module_version": "1.5.0",
            "_model_name": "DescriptionStyleModel",
            "_view_count": null,
            "_view_module": "@jupyter-widgets/base",
            "_view_module_version": "1.2.0",
            "_view_name": "StyleView",
            "description_width": ""
          }
        },
        "2c12b6a789b04818b3cfa0ca04f83893": {
          "model_module": "@jupyter-widgets/controls",
          "model_name": "HBoxModel",
          "model_module_version": "1.5.0",
          "state": {
            "_dom_classes": [],
            "_model_module": "@jupyter-widgets/controls",
            "_model_module_version": "1.5.0",
            "_model_name": "HBoxModel",
            "_view_count": null,
            "_view_module": "@jupyter-widgets/controls",
            "_view_module_version": "1.5.0",
            "_view_name": "HBoxView",
            "box_style": "",
            "children": [
              "IPY_MODEL_dcee2a3baa8342fbafe503380d0f7537",
              "IPY_MODEL_b979dc07bb8a4a57bd636fe6d8263e19",
              "IPY_MODEL_1d2a821d825e488e8ed28ed49fe48d91"
            ],
            "layout": "IPY_MODEL_655fdd11e24340719f294755c1e191a5"
          }
        },
        "dcee2a3baa8342fbafe503380d0f7537": {
          "model_module": "@jupyter-widgets/controls",
          "model_name": "HTMLModel",
          "model_module_version": "1.5.0",
          "state": {
            "_dom_classes": [],
            "_model_module": "@jupyter-widgets/controls",
            "_model_module_version": "1.5.0",
            "_model_name": "HTMLModel",
            "_view_count": null,
            "_view_module": "@jupyter-widgets/controls",
            "_view_module_version": "1.5.0",
            "_view_name": "HTMLView",
            "description": "",
            "description_tooltip": null,
            "layout": "IPY_MODEL_780c3cb2e1a84110a939f9a6e648904c",
            "placeholder": "​",
            "style": "IPY_MODEL_49d2e0cd153b49aba6320f914e164dfd",
            "value": "Downloading: "
          }
        },
        "b979dc07bb8a4a57bd636fe6d8263e19": {
          "model_module": "@jupyter-widgets/controls",
          "model_name": "FloatProgressModel",
          "model_module_version": "1.5.0",
          "state": {
            "_dom_classes": [],
            "_model_module": "@jupyter-widgets/controls",
            "_model_module_version": "1.5.0",
            "_model_name": "FloatProgressModel",
            "_view_count": null,
            "_view_module": "@jupyter-widgets/controls",
            "_view_module_version": "1.5.0",
            "_view_name": "ProgressView",
            "bar_style": "success",
            "description": "",
            "description_tooltip": null,
            "layout": "IPY_MODEL_1a40079075f74c32bc033e8379b7571a",
            "max": 9551051,
            "min": 0,
            "orientation": "horizontal",
            "style": "IPY_MODEL_3fd21a2f9f5448fc925a3c4cfec76488",
            "value": 9551051
          }
        },
        "1d2a821d825e488e8ed28ed49fe48d91": {
          "model_module": "@jupyter-widgets/controls",
          "model_name": "HTMLModel",
          "model_module_version": "1.5.0",
          "state": {
            "_dom_classes": [],
            "_model_module": "@jupyter-widgets/controls",
            "_model_module_version": "1.5.0",
            "_model_name": "HTMLModel",
            "_view_count": null,
            "_view_module": "@jupyter-widgets/controls",
            "_view_module_version": "1.5.0",
            "_view_name": "HTMLView",
            "description": "",
            "description_tooltip": null,
            "layout": "IPY_MODEL_87844727f74e4840bf1ff0ddf65215f8",
            "placeholder": "​",
            "style": "IPY_MODEL_4fe5168ff658402992d2f58dd502300a",
            "value": " 42.1M/? [00:00&lt;00:00, 57.6MB/s]"
          }
        },
        "655fdd11e24340719f294755c1e191a5": {
          "model_module": "@jupyter-widgets/base",
          "model_name": "LayoutModel",
          "model_module_version": "1.2.0",
          "state": {
            "_model_module": "@jupyter-widgets/base",
            "_model_module_version": "1.2.0",
            "_model_name": "LayoutModel",
            "_view_count": null,
            "_view_module": "@jupyter-widgets/base",
            "_view_module_version": "1.2.0",
            "_view_name": "LayoutView",
            "align_content": null,
            "align_items": null,
            "align_self": null,
            "border": null,
            "bottom": null,
            "display": null,
            "flex": null,
            "flex_flow": null,
            "grid_area": null,
            "grid_auto_columns": null,
            "grid_auto_flow": null,
            "grid_auto_rows": null,
            "grid_column": null,
            "grid_gap": null,
            "grid_row": null,
            "grid_template_areas": null,
            "grid_template_columns": null,
            "grid_template_rows": null,
            "height": null,
            "justify_content": null,
            "justify_items": null,
            "left": null,
            "margin": null,
            "max_height": null,
            "max_width": null,
            "min_height": null,
            "min_width": null,
            "object_fit": null,
            "object_position": null,
            "order": null,
            "overflow": null,
            "overflow_x": null,
            "overflow_y": null,
            "padding": null,
            "right": null,
            "top": null,
            "visibility": null,
            "width": null
          }
        },
        "780c3cb2e1a84110a939f9a6e648904c": {
          "model_module": "@jupyter-widgets/base",
          "model_name": "LayoutModel",
          "model_module_version": "1.2.0",
          "state": {
            "_model_module": "@jupyter-widgets/base",
            "_model_module_version": "1.2.0",
            "_model_name": "LayoutModel",
            "_view_count": null,
            "_view_module": "@jupyter-widgets/base",
            "_view_module_version": "1.2.0",
            "_view_name": "LayoutView",
            "align_content": null,
            "align_items": null,
            "align_self": null,
            "border": null,
            "bottom": null,
            "display": null,
            "flex": null,
            "flex_flow": null,
            "grid_area": null,
            "grid_auto_columns": null,
            "grid_auto_flow": null,
            "grid_auto_rows": null,
            "grid_column": null,
            "grid_gap": null,
            "grid_row": null,
            "grid_template_areas": null,
            "grid_template_columns": null,
            "grid_template_rows": null,
            "height": null,
            "justify_content": null,
            "justify_items": null,
            "left": null,
            "margin": null,
            "max_height": null,
            "max_width": null,
            "min_height": null,
            "min_width": null,
            "object_fit": null,
            "object_position": null,
            "order": null,
            "overflow": null,
            "overflow_x": null,
            "overflow_y": null,
            "padding": null,
            "right": null,
            "top": null,
            "visibility": null,
            "width": null
          }
        },
        "49d2e0cd153b49aba6320f914e164dfd": {
          "model_module": "@jupyter-widgets/controls",
          "model_name": "DescriptionStyleModel",
          "model_module_version": "1.5.0",
          "state": {
            "_model_module": "@jupyter-widgets/controls",
            "_model_module_version": "1.5.0",
            "_model_name": "DescriptionStyleModel",
            "_view_count": null,
            "_view_module": "@jupyter-widgets/base",
            "_view_module_version": "1.2.0",
            "_view_name": "StyleView",
            "description_width": ""
          }
        },
        "1a40079075f74c32bc033e8379b7571a": {
          "model_module": "@jupyter-widgets/base",
          "model_name": "LayoutModel",
          "model_module_version": "1.2.0",
          "state": {
            "_model_module": "@jupyter-widgets/base",
            "_model_module_version": "1.2.0",
            "_model_name": "LayoutModel",
            "_view_count": null,
            "_view_module": "@jupyter-widgets/base",
            "_view_module_version": "1.2.0",
            "_view_name": "LayoutView",
            "align_content": null,
            "align_items": null,
            "align_self": null,
            "border": null,
            "bottom": null,
            "display": null,
            "flex": null,
            "flex_flow": null,
            "grid_area": null,
            "grid_auto_columns": null,
            "grid_auto_flow": null,
            "grid_auto_rows": null,
            "grid_column": null,
            "grid_gap": null,
            "grid_row": null,
            "grid_template_areas": null,
            "grid_template_columns": null,
            "grid_template_rows": null,
            "height": null,
            "justify_content": null,
            "justify_items": null,
            "left": null,
            "margin": null,
            "max_height": null,
            "max_width": null,
            "min_height": null,
            "min_width": null,
            "object_fit": null,
            "object_position": null,
            "order": null,
            "overflow": null,
            "overflow_x": null,
            "overflow_y": null,
            "padding": null,
            "right": null,
            "top": null,
            "visibility": null,
            "width": null
          }
        },
        "3fd21a2f9f5448fc925a3c4cfec76488": {
          "model_module": "@jupyter-widgets/controls",
          "model_name": "ProgressStyleModel",
          "model_module_version": "1.5.0",
          "state": {
            "_model_module": "@jupyter-widgets/controls",
            "_model_module_version": "1.5.0",
            "_model_name": "ProgressStyleModel",
            "_view_count": null,
            "_view_module": "@jupyter-widgets/base",
            "_view_module_version": "1.2.0",
            "_view_name": "StyleView",
            "bar_color": null,
            "description_width": ""
          }
        },
        "87844727f74e4840bf1ff0ddf65215f8": {
          "model_module": "@jupyter-widgets/base",
          "model_name": "LayoutModel",
          "model_module_version": "1.2.0",
          "state": {
            "_model_module": "@jupyter-widgets/base",
            "_model_module_version": "1.2.0",
            "_model_name": "LayoutModel",
            "_view_count": null,
            "_view_module": "@jupyter-widgets/base",
            "_view_module_version": "1.2.0",
            "_view_name": "LayoutView",
            "align_content": null,
            "align_items": null,
            "align_self": null,
            "border": null,
            "bottom": null,
            "display": null,
            "flex": null,
            "flex_flow": null,
            "grid_area": null,
            "grid_auto_columns": null,
            "grid_auto_flow": null,
            "grid_auto_rows": null,
            "grid_column": null,
            "grid_gap": null,
            "grid_row": null,
            "grid_template_areas": null,
            "grid_template_columns": null,
            "grid_template_rows": null,
            "height": null,
            "justify_content": null,
            "justify_items": null,
            "left": null,
            "margin": null,
            "max_height": null,
            "max_width": null,
            "min_height": null,
            "min_width": null,
            "object_fit": null,
            "object_position": null,
            "order": null,
            "overflow": null,
            "overflow_x": null,
            "overflow_y": null,
            "padding": null,
            "right": null,
            "top": null,
            "visibility": null,
            "width": null
          }
        },
        "4fe5168ff658402992d2f58dd502300a": {
          "model_module": "@jupyter-widgets/controls",
          "model_name": "DescriptionStyleModel",
          "model_module_version": "1.5.0",
          "state": {
            "_model_module": "@jupyter-widgets/controls",
            "_model_module_version": "1.5.0",
            "_model_name": "DescriptionStyleModel",
            "_view_count": null,
            "_view_module": "@jupyter-widgets/base",
            "_view_module_version": "1.2.0",
            "_view_name": "StyleView",
            "description_width": ""
          }
        },
        "afa0a78b8bd14dc0aa646fe99a0311d9": {
          "model_module": "@jupyter-widgets/controls",
          "model_name": "HBoxModel",
          "model_module_version": "1.5.0",
          "state": {
            "_dom_classes": [],
            "_model_module": "@jupyter-widgets/controls",
            "_model_module_version": "1.5.0",
            "_model_name": "HBoxModel",
            "_view_count": null,
            "_view_module": "@jupyter-widgets/controls",
            "_view_module_version": "1.5.0",
            "_view_name": "HBoxView",
            "box_style": "",
            "children": [
              "IPY_MODEL_571ffaa9c5b049e1a9c339dcdbc1bc0e",
              "IPY_MODEL_4216fd1cdff346f1a779355ad6ce63ab",
              "IPY_MODEL_eeb1f6f8ff7841949ded4bf969f7c3d0"
            ],
            "layout": "IPY_MODEL_681642a617304a03901bbbf352564f07"
          }
        },
        "571ffaa9c5b049e1a9c339dcdbc1bc0e": {
          "model_module": "@jupyter-widgets/controls",
          "model_name": "HTMLModel",
          "model_module_version": "1.5.0",
          "state": {
            "_dom_classes": [],
            "_model_module": "@jupyter-widgets/controls",
            "_model_module_version": "1.5.0",
            "_model_name": "HTMLModel",
            "_view_count": null,
            "_view_module": "@jupyter-widgets/controls",
            "_view_module_version": "1.5.0",
            "_view_name": "HTMLView",
            "description": "",
            "description_tooltip": null,
            "layout": "IPY_MODEL_8dd81bd266bc4cf79a0249955e1e3dcf",
            "placeholder": "​",
            "style": "IPY_MODEL_8516cb1ee62f4047b844a01fc2156b28",
            "value": "Downloading: "
          }
        },
        "4216fd1cdff346f1a779355ad6ce63ab": {
          "model_module": "@jupyter-widgets/controls",
          "model_name": "FloatProgressModel",
          "model_module_version": "1.5.0",
          "state": {
            "_dom_classes": [],
            "_model_module": "@jupyter-widgets/controls",
            "_model_module_version": "1.5.0",
            "_model_name": "FloatProgressModel",
            "_view_count": null,
            "_view_module": "@jupyter-widgets/controls",
            "_view_module_version": "1.5.0",
            "_view_name": "ProgressView",
            "bar_style": "success",
            "description": "",
            "description_tooltip": null,
            "layout": "IPY_MODEL_16079976cbf84c2dbec2acdbe9bcd66f",
            "max": 800683,
            "min": 0,
            "orientation": "horizontal",
            "style": "IPY_MODEL_8f31626586f24d479284251b79363983",
            "value": 800683
          }
        },
        "eeb1f6f8ff7841949ded4bf969f7c3d0": {
          "model_module": "@jupyter-widgets/controls",
          "model_name": "HTMLModel",
          "model_module_version": "1.5.0",
          "state": {
            "_dom_classes": [],
            "_model_module": "@jupyter-widgets/controls",
            "_model_module_version": "1.5.0",
            "_model_name": "HTMLModel",
            "_view_count": null,
            "_view_module": "@jupyter-widgets/controls",
            "_view_module_version": "1.5.0",
            "_view_name": "HTMLView",
            "description": "",
            "description_tooltip": null,
            "layout": "IPY_MODEL_88a6da5379194f218e7dd74d4078f23c",
            "placeholder": "​",
            "style": "IPY_MODEL_46bffec8ab7440f58072e3413db011f6",
            "value": " 4.37M/? [00:00&lt;00:00, 9.85MB/s]"
          }
        },
        "681642a617304a03901bbbf352564f07": {
          "model_module": "@jupyter-widgets/base",
          "model_name": "LayoutModel",
          "model_module_version": "1.2.0",
          "state": {
            "_model_module": "@jupyter-widgets/base",
            "_model_module_version": "1.2.0",
            "_model_name": "LayoutModel",
            "_view_count": null,
            "_view_module": "@jupyter-widgets/base",
            "_view_module_version": "1.2.0",
            "_view_name": "LayoutView",
            "align_content": null,
            "align_items": null,
            "align_self": null,
            "border": null,
            "bottom": null,
            "display": null,
            "flex": null,
            "flex_flow": null,
            "grid_area": null,
            "grid_auto_columns": null,
            "grid_auto_flow": null,
            "grid_auto_rows": null,
            "grid_column": null,
            "grid_gap": null,
            "grid_row": null,
            "grid_template_areas": null,
            "grid_template_columns": null,
            "grid_template_rows": null,
            "height": null,
            "justify_content": null,
            "justify_items": null,
            "left": null,
            "margin": null,
            "max_height": null,
            "max_width": null,
            "min_height": null,
            "min_width": null,
            "object_fit": null,
            "object_position": null,
            "order": null,
            "overflow": null,
            "overflow_x": null,
            "overflow_y": null,
            "padding": null,
            "right": null,
            "top": null,
            "visibility": null,
            "width": null
          }
        },
        "8dd81bd266bc4cf79a0249955e1e3dcf": {
          "model_module": "@jupyter-widgets/base",
          "model_name": "LayoutModel",
          "model_module_version": "1.2.0",
          "state": {
            "_model_module": "@jupyter-widgets/base",
            "_model_module_version": "1.2.0",
            "_model_name": "LayoutModel",
            "_view_count": null,
            "_view_module": "@jupyter-widgets/base",
            "_view_module_version": "1.2.0",
            "_view_name": "LayoutView",
            "align_content": null,
            "align_items": null,
            "align_self": null,
            "border": null,
            "bottom": null,
            "display": null,
            "flex": null,
            "flex_flow": null,
            "grid_area": null,
            "grid_auto_columns": null,
            "grid_auto_flow": null,
            "grid_auto_rows": null,
            "grid_column": null,
            "grid_gap": null,
            "grid_row": null,
            "grid_template_areas": null,
            "grid_template_columns": null,
            "grid_template_rows": null,
            "height": null,
            "justify_content": null,
            "justify_items": null,
            "left": null,
            "margin": null,
            "max_height": null,
            "max_width": null,
            "min_height": null,
            "min_width": null,
            "object_fit": null,
            "object_position": null,
            "order": null,
            "overflow": null,
            "overflow_x": null,
            "overflow_y": null,
            "padding": null,
            "right": null,
            "top": null,
            "visibility": null,
            "width": null
          }
        },
        "8516cb1ee62f4047b844a01fc2156b28": {
          "model_module": "@jupyter-widgets/controls",
          "model_name": "DescriptionStyleModel",
          "model_module_version": "1.5.0",
          "state": {
            "_model_module": "@jupyter-widgets/controls",
            "_model_module_version": "1.5.0",
            "_model_name": "DescriptionStyleModel",
            "_view_count": null,
            "_view_module": "@jupyter-widgets/base",
            "_view_module_version": "1.2.0",
            "_view_name": "StyleView",
            "description_width": ""
          }
        },
        "16079976cbf84c2dbec2acdbe9bcd66f": {
          "model_module": "@jupyter-widgets/base",
          "model_name": "LayoutModel",
          "model_module_version": "1.2.0",
          "state": {
            "_model_module": "@jupyter-widgets/base",
            "_model_module_version": "1.2.0",
            "_model_name": "LayoutModel",
            "_view_count": null,
            "_view_module": "@jupyter-widgets/base",
            "_view_module_version": "1.2.0",
            "_view_name": "LayoutView",
            "align_content": null,
            "align_items": null,
            "align_self": null,
            "border": null,
            "bottom": null,
            "display": null,
            "flex": null,
            "flex_flow": null,
            "grid_area": null,
            "grid_auto_columns": null,
            "grid_auto_flow": null,
            "grid_auto_rows": null,
            "grid_column": null,
            "grid_gap": null,
            "grid_row": null,
            "grid_template_areas": null,
            "grid_template_columns": null,
            "grid_template_rows": null,
            "height": null,
            "justify_content": null,
            "justify_items": null,
            "left": null,
            "margin": null,
            "max_height": null,
            "max_width": null,
            "min_height": null,
            "min_width": null,
            "object_fit": null,
            "object_position": null,
            "order": null,
            "overflow": null,
            "overflow_x": null,
            "overflow_y": null,
            "padding": null,
            "right": null,
            "top": null,
            "visibility": null,
            "width": null
          }
        },
        "8f31626586f24d479284251b79363983": {
          "model_module": "@jupyter-widgets/controls",
          "model_name": "ProgressStyleModel",
          "model_module_version": "1.5.0",
          "state": {
            "_model_module": "@jupyter-widgets/controls",
            "_model_module_version": "1.5.0",
            "_model_name": "ProgressStyleModel",
            "_view_count": null,
            "_view_module": "@jupyter-widgets/base",
            "_view_module_version": "1.2.0",
            "_view_name": "StyleView",
            "bar_color": null,
            "description_width": ""
          }
        },
        "88a6da5379194f218e7dd74d4078f23c": {
          "model_module": "@jupyter-widgets/base",
          "model_name": "LayoutModel",
          "model_module_version": "1.2.0",
          "state": {
            "_model_module": "@jupyter-widgets/base",
            "_model_module_version": "1.2.0",
            "_model_name": "LayoutModel",
            "_view_count": null,
            "_view_module": "@jupyter-widgets/base",
            "_view_module_version": "1.2.0",
            "_view_name": "LayoutView",
            "align_content": null,
            "align_items": null,
            "align_self": null,
            "border": null,
            "bottom": null,
            "display": null,
            "flex": null,
            "flex_flow": null,
            "grid_area": null,
            "grid_auto_columns": null,
            "grid_auto_flow": null,
            "grid_auto_rows": null,
            "grid_column": null,
            "grid_gap": null,
            "grid_row": null,
            "grid_template_areas": null,
            "grid_template_columns": null,
            "grid_template_rows": null,
            "height": null,
            "justify_content": null,
            "justify_items": null,
            "left": null,
            "margin": null,
            "max_height": null,
            "max_width": null,
            "min_height": null,
            "min_width": null,
            "object_fit": null,
            "object_position": null,
            "order": null,
            "overflow": null,
            "overflow_x": null,
            "overflow_y": null,
            "padding": null,
            "right": null,
            "top": null,
            "visibility": null,
            "width": null
          }
        },
        "46bffec8ab7440f58072e3413db011f6": {
          "model_module": "@jupyter-widgets/controls",
          "model_name": "DescriptionStyleModel",
          "model_module_version": "1.5.0",
          "state": {
            "_model_module": "@jupyter-widgets/controls",
            "_model_module_version": "1.5.0",
            "_model_name": "DescriptionStyleModel",
            "_view_count": null,
            "_view_module": "@jupyter-widgets/base",
            "_view_module_version": "1.2.0",
            "_view_name": "StyleView",
            "description_width": ""
          }
        },
        "d36bfa7db3244e73af23b7e9275ce5ee": {
          "model_module": "@jupyter-widgets/controls",
          "model_name": "HBoxModel",
          "model_module_version": "1.5.0",
          "state": {
            "_dom_classes": [],
            "_model_module": "@jupyter-widgets/controls",
            "_model_module_version": "1.5.0",
            "_model_name": "HBoxModel",
            "_view_count": null,
            "_view_module": "@jupyter-widgets/controls",
            "_view_module_version": "1.5.0",
            "_view_name": "HBoxView",
            "box_style": "",
            "children": [
              "IPY_MODEL_5c8ee5b59f8f43a093111a4eb3073a7a",
              "IPY_MODEL_89b97deb710c4552917d8f79e79dfa9f",
              "IPY_MODEL_9b0143374a7b4b37be6714f448930e56"
            ],
            "layout": "IPY_MODEL_68aa94c1e457420d885317b2d46d2e75"
          }
        },
        "5c8ee5b59f8f43a093111a4eb3073a7a": {
          "model_module": "@jupyter-widgets/controls",
          "model_name": "HTMLModel",
          "model_module_version": "1.5.0",
          "state": {
            "_dom_classes": [],
            "_model_module": "@jupyter-widgets/controls",
            "_model_module_version": "1.5.0",
            "_model_name": "HTMLModel",
            "_view_count": null,
            "_view_module": "@jupyter-widgets/controls",
            "_view_module_version": "1.5.0",
            "_view_name": "HTMLView",
            "description": "",
            "description_tooltip": null,
            "layout": "IPY_MODEL_ac72f988586c4b59aca873ec1d1f97e6",
            "placeholder": "​",
            "style": "IPY_MODEL_4ee8786f442b4ef3b2e18e5cd8b5b633",
            "value": "100%"
          }
        },
        "89b97deb710c4552917d8f79e79dfa9f": {
          "model_module": "@jupyter-widgets/controls",
          "model_name": "FloatProgressModel",
          "model_module_version": "1.5.0",
          "state": {
            "_dom_classes": [],
            "_model_module": "@jupyter-widgets/controls",
            "_model_module_version": "1.5.0",
            "_model_name": "FloatProgressModel",
            "_view_count": null,
            "_view_module": "@jupyter-widgets/controls",
            "_view_module_version": "1.5.0",
            "_view_name": "ProgressView",
            "bar_style": "success",
            "description": "",
            "description_tooltip": null,
            "layout": "IPY_MODEL_cbe7a41c060649d4a9d72e33f876337f",
            "max": 2,
            "min": 0,
            "orientation": "horizontal",
            "style": "IPY_MODEL_4a43d788091148889b6feed98bbc048a",
            "value": 2
          }
        },
        "9b0143374a7b4b37be6714f448930e56": {
          "model_module": "@jupyter-widgets/controls",
          "model_name": "HTMLModel",
          "model_module_version": "1.5.0",
          "state": {
            "_dom_classes": [],
            "_model_module": "@jupyter-widgets/controls",
            "_model_module_version": "1.5.0",
            "_model_name": "HTMLModel",
            "_view_count": null,
            "_view_module": "@jupyter-widgets/controls",
            "_view_module_version": "1.5.0",
            "_view_name": "HTMLView",
            "description": "",
            "description_tooltip": null,
            "layout": "IPY_MODEL_4be61b1fddcd4cf698a29e417a016eba",
            "placeholder": "​",
            "style": "IPY_MODEL_73e2ea1ad202451c85ef293efa9ba4f3",
            "value": " 2/2 [00:00&lt;00:00, 35.48it/s]"
          }
        },
        "68aa94c1e457420d885317b2d46d2e75": {
          "model_module": "@jupyter-widgets/base",
          "model_name": "LayoutModel",
          "model_module_version": "1.2.0",
          "state": {
            "_model_module": "@jupyter-widgets/base",
            "_model_module_version": "1.2.0",
            "_model_name": "LayoutModel",
            "_view_count": null,
            "_view_module": "@jupyter-widgets/base",
            "_view_module_version": "1.2.0",
            "_view_name": "LayoutView",
            "align_content": null,
            "align_items": null,
            "align_self": null,
            "border": null,
            "bottom": null,
            "display": null,
            "flex": null,
            "flex_flow": null,
            "grid_area": null,
            "grid_auto_columns": null,
            "grid_auto_flow": null,
            "grid_auto_rows": null,
            "grid_column": null,
            "grid_gap": null,
            "grid_row": null,
            "grid_template_areas": null,
            "grid_template_columns": null,
            "grid_template_rows": null,
            "height": null,
            "justify_content": null,
            "justify_items": null,
            "left": null,
            "margin": null,
            "max_height": null,
            "max_width": null,
            "min_height": null,
            "min_width": null,
            "object_fit": null,
            "object_position": null,
            "order": null,
            "overflow": null,
            "overflow_x": null,
            "overflow_y": null,
            "padding": null,
            "right": null,
            "top": null,
            "visibility": null,
            "width": null
          }
        },
        "ac72f988586c4b59aca873ec1d1f97e6": {
          "model_module": "@jupyter-widgets/base",
          "model_name": "LayoutModel",
          "model_module_version": "1.2.0",
          "state": {
            "_model_module": "@jupyter-widgets/base",
            "_model_module_version": "1.2.0",
            "_model_name": "LayoutModel",
            "_view_count": null,
            "_view_module": "@jupyter-widgets/base",
            "_view_module_version": "1.2.0",
            "_view_name": "LayoutView",
            "align_content": null,
            "align_items": null,
            "align_self": null,
            "border": null,
            "bottom": null,
            "display": null,
            "flex": null,
            "flex_flow": null,
            "grid_area": null,
            "grid_auto_columns": null,
            "grid_auto_flow": null,
            "grid_auto_rows": null,
            "grid_column": null,
            "grid_gap": null,
            "grid_row": null,
            "grid_template_areas": null,
            "grid_template_columns": null,
            "grid_template_rows": null,
            "height": null,
            "justify_content": null,
            "justify_items": null,
            "left": null,
            "margin": null,
            "max_height": null,
            "max_width": null,
            "min_height": null,
            "min_width": null,
            "object_fit": null,
            "object_position": null,
            "order": null,
            "overflow": null,
            "overflow_x": null,
            "overflow_y": null,
            "padding": null,
            "right": null,
            "top": null,
            "visibility": null,
            "width": null
          }
        },
        "4ee8786f442b4ef3b2e18e5cd8b5b633": {
          "model_module": "@jupyter-widgets/controls",
          "model_name": "DescriptionStyleModel",
          "model_module_version": "1.5.0",
          "state": {
            "_model_module": "@jupyter-widgets/controls",
            "_model_module_version": "1.5.0",
            "_model_name": "DescriptionStyleModel",
            "_view_count": null,
            "_view_module": "@jupyter-widgets/base",
            "_view_module_version": "1.2.0",
            "_view_name": "StyleView",
            "description_width": ""
          }
        },
        "cbe7a41c060649d4a9d72e33f876337f": {
          "model_module": "@jupyter-widgets/base",
          "model_name": "LayoutModel",
          "model_module_version": "1.2.0",
          "state": {
            "_model_module": "@jupyter-widgets/base",
            "_model_module_version": "1.2.0",
            "_model_name": "LayoutModel",
            "_view_count": null,
            "_view_module": "@jupyter-widgets/base",
            "_view_module_version": "1.2.0",
            "_view_name": "LayoutView",
            "align_content": null,
            "align_items": null,
            "align_self": null,
            "border": null,
            "bottom": null,
            "display": null,
            "flex": null,
            "flex_flow": null,
            "grid_area": null,
            "grid_auto_columns": null,
            "grid_auto_flow": null,
            "grid_auto_rows": null,
            "grid_column": null,
            "grid_gap": null,
            "grid_row": null,
            "grid_template_areas": null,
            "grid_template_columns": null,
            "grid_template_rows": null,
            "height": null,
            "justify_content": null,
            "justify_items": null,
            "left": null,
            "margin": null,
            "max_height": null,
            "max_width": null,
            "min_height": null,
            "min_width": null,
            "object_fit": null,
            "object_position": null,
            "order": null,
            "overflow": null,
            "overflow_x": null,
            "overflow_y": null,
            "padding": null,
            "right": null,
            "top": null,
            "visibility": null,
            "width": null
          }
        },
        "4a43d788091148889b6feed98bbc048a": {
          "model_module": "@jupyter-widgets/controls",
          "model_name": "ProgressStyleModel",
          "model_module_version": "1.5.0",
          "state": {
            "_model_module": "@jupyter-widgets/controls",
            "_model_module_version": "1.5.0",
            "_model_name": "ProgressStyleModel",
            "_view_count": null,
            "_view_module": "@jupyter-widgets/base",
            "_view_module_version": "1.2.0",
            "_view_name": "StyleView",
            "bar_color": null,
            "description_width": ""
          }
        },
        "4be61b1fddcd4cf698a29e417a016eba": {
          "model_module": "@jupyter-widgets/base",
          "model_name": "LayoutModel",
          "model_module_version": "1.2.0",
          "state": {
            "_model_module": "@jupyter-widgets/base",
            "_model_module_version": "1.2.0",
            "_model_name": "LayoutModel",
            "_view_count": null,
            "_view_module": "@jupyter-widgets/base",
            "_view_module_version": "1.2.0",
            "_view_name": "LayoutView",
            "align_content": null,
            "align_items": null,
            "align_self": null,
            "border": null,
            "bottom": null,
            "display": null,
            "flex": null,
            "flex_flow": null,
            "grid_area": null,
            "grid_auto_columns": null,
            "grid_auto_flow": null,
            "grid_auto_rows": null,
            "grid_column": null,
            "grid_gap": null,
            "grid_row": null,
            "grid_template_areas": null,
            "grid_template_columns": null,
            "grid_template_rows": null,
            "height": null,
            "justify_content": null,
            "justify_items": null,
            "left": null,
            "margin": null,
            "max_height": null,
            "max_width": null,
            "min_height": null,
            "min_width": null,
            "object_fit": null,
            "object_position": null,
            "order": null,
            "overflow": null,
            "overflow_x": null,
            "overflow_y": null,
            "padding": null,
            "right": null,
            "top": null,
            "visibility": null,
            "width": null
          }
        },
        "73e2ea1ad202451c85ef293efa9ba4f3": {
          "model_module": "@jupyter-widgets/controls",
          "model_name": "DescriptionStyleModel",
          "model_module_version": "1.5.0",
          "state": {
            "_model_module": "@jupyter-widgets/controls",
            "_model_module_version": "1.5.0",
            "_model_name": "DescriptionStyleModel",
            "_view_count": null,
            "_view_module": "@jupyter-widgets/base",
            "_view_module_version": "1.2.0",
            "_view_name": "StyleView",
            "description_width": ""
          }
        },
        "9c46a74bfe5745bea720a02c6f54106b": {
          "model_module": "@jupyter-widgets/controls",
          "model_name": "HBoxModel",
          "model_module_version": "1.5.0",
          "state": {
            "_dom_classes": [],
            "_model_module": "@jupyter-widgets/controls",
            "_model_module_version": "1.5.0",
            "_model_name": "HBoxModel",
            "_view_count": null,
            "_view_module": "@jupyter-widgets/controls",
            "_view_module_version": "1.5.0",
            "_view_name": "HBoxView",
            "box_style": "",
            "children": [
              "IPY_MODEL_9206ea92348a44779ffae019d0c68255",
              "IPY_MODEL_497f840be41f4f71a89866d2d0bc92b8",
              "IPY_MODEL_895c1ea1f99d4083873218a3c38560b9"
            ],
            "layout": "IPY_MODEL_bc585a8048c54ca2bb76fd17e17a1383"
          }
        },
        "9206ea92348a44779ffae019d0c68255": {
          "model_module": "@jupyter-widgets/controls",
          "model_name": "HTMLModel",
          "model_module_version": "1.5.0",
          "state": {
            "_dom_classes": [],
            "_model_module": "@jupyter-widgets/controls",
            "_model_module_version": "1.5.0",
            "_model_name": "HTMLModel",
            "_view_count": null,
            "_view_module": "@jupyter-widgets/controls",
            "_view_module_version": "1.5.0",
            "_view_name": "HTMLView",
            "description": "",
            "description_tooltip": null,
            "layout": "IPY_MODEL_400ee800146049bc85489a3ba74da0c2",
            "placeholder": "​",
            "style": "IPY_MODEL_d8847b9ba7a2461cbe8bc1a8264f511c",
            "value": ""
          }
        },
        "497f840be41f4f71a89866d2d0bc92b8": {
          "model_module": "@jupyter-widgets/controls",
          "model_name": "FloatProgressModel",
          "model_module_version": "1.5.0",
          "state": {
            "_dom_classes": [],
            "_model_module": "@jupyter-widgets/controls",
            "_model_module_version": "1.5.0",
            "_model_name": "FloatProgressModel",
            "_view_count": null,
            "_view_module": "@jupyter-widgets/controls",
            "_view_module_version": "1.5.0",
            "_view_name": "ProgressView",
            "bar_style": "info",
            "description": "",
            "description_tooltip": null,
            "layout": "IPY_MODEL_7df95a56e6cd4593bfe2ae576456306f",
            "max": 1,
            "min": 0,
            "orientation": "horizontal",
            "style": "IPY_MODEL_c0d37b05d8a748ba98e63f60c24d7919",
            "value": 1
          }
        },
        "895c1ea1f99d4083873218a3c38560b9": {
          "model_module": "@jupyter-widgets/controls",
          "model_name": "HTMLModel",
          "model_module_version": "1.5.0",
          "state": {
            "_dom_classes": [],
            "_model_module": "@jupyter-widgets/controls",
            "_model_module_version": "1.5.0",
            "_model_name": "HTMLModel",
            "_view_count": null,
            "_view_module": "@jupyter-widgets/controls",
            "_view_module_version": "1.5.0",
            "_view_name": "HTMLView",
            "description": "",
            "description_tooltip": null,
            "layout": "IPY_MODEL_2cd8f9f5fe3946d88d2065c7f59f2d5a",
            "placeholder": "​",
            "style": "IPY_MODEL_f9f8014408934913a3bae45038b787ae",
            "value": " 129609/0 [00:20&lt;00:00, 12555.51 examples/s]"
          }
        },
        "bc585a8048c54ca2bb76fd17e17a1383": {
          "model_module": "@jupyter-widgets/base",
          "model_name": "LayoutModel",
          "model_module_version": "1.2.0",
          "state": {
            "_model_module": "@jupyter-widgets/base",
            "_model_module_version": "1.2.0",
            "_model_name": "LayoutModel",
            "_view_count": null,
            "_view_module": "@jupyter-widgets/base",
            "_view_module_version": "1.2.0",
            "_view_name": "LayoutView",
            "align_content": null,
            "align_items": null,
            "align_self": null,
            "border": null,
            "bottom": null,
            "display": null,
            "flex": null,
            "flex_flow": null,
            "grid_area": null,
            "grid_auto_columns": null,
            "grid_auto_flow": null,
            "grid_auto_rows": null,
            "grid_column": null,
            "grid_gap": null,
            "grid_row": null,
            "grid_template_areas": null,
            "grid_template_columns": null,
            "grid_template_rows": null,
            "height": null,
            "justify_content": null,
            "justify_items": null,
            "left": null,
            "margin": null,
            "max_height": null,
            "max_width": null,
            "min_height": null,
            "min_width": null,
            "object_fit": null,
            "object_position": null,
            "order": null,
            "overflow": null,
            "overflow_x": null,
            "overflow_y": null,
            "padding": null,
            "right": null,
            "top": null,
            "visibility": null,
            "width": null
          }
        },
        "400ee800146049bc85489a3ba74da0c2": {
          "model_module": "@jupyter-widgets/base",
          "model_name": "LayoutModel",
          "model_module_version": "1.2.0",
          "state": {
            "_model_module": "@jupyter-widgets/base",
            "_model_module_version": "1.2.0",
            "_model_name": "LayoutModel",
            "_view_count": null,
            "_view_module": "@jupyter-widgets/base",
            "_view_module_version": "1.2.0",
            "_view_name": "LayoutView",
            "align_content": null,
            "align_items": null,
            "align_self": null,
            "border": null,
            "bottom": null,
            "display": null,
            "flex": null,
            "flex_flow": null,
            "grid_area": null,
            "grid_auto_columns": null,
            "grid_auto_flow": null,
            "grid_auto_rows": null,
            "grid_column": null,
            "grid_gap": null,
            "grid_row": null,
            "grid_template_areas": null,
            "grid_template_columns": null,
            "grid_template_rows": null,
            "height": null,
            "justify_content": null,
            "justify_items": null,
            "left": null,
            "margin": null,
            "max_height": null,
            "max_width": null,
            "min_height": null,
            "min_width": null,
            "object_fit": null,
            "object_position": null,
            "order": null,
            "overflow": null,
            "overflow_x": null,
            "overflow_y": null,
            "padding": null,
            "right": null,
            "top": null,
            "visibility": null,
            "width": null
          }
        },
        "d8847b9ba7a2461cbe8bc1a8264f511c": {
          "model_module": "@jupyter-widgets/controls",
          "model_name": "DescriptionStyleModel",
          "model_module_version": "1.5.0",
          "state": {
            "_model_module": "@jupyter-widgets/controls",
            "_model_module_version": "1.5.0",
            "_model_name": "DescriptionStyleModel",
            "_view_count": null,
            "_view_module": "@jupyter-widgets/base",
            "_view_module_version": "1.2.0",
            "_view_name": "StyleView",
            "description_width": ""
          }
        },
        "7df95a56e6cd4593bfe2ae576456306f": {
          "model_module": "@jupyter-widgets/base",
          "model_name": "LayoutModel",
          "model_module_version": "1.2.0",
          "state": {
            "_model_module": "@jupyter-widgets/base",
            "_model_module_version": "1.2.0",
            "_model_name": "LayoutModel",
            "_view_count": null,
            "_view_module": "@jupyter-widgets/base",
            "_view_module_version": "1.2.0",
            "_view_name": "LayoutView",
            "align_content": null,
            "align_items": null,
            "align_self": null,
            "border": null,
            "bottom": null,
            "display": null,
            "flex": null,
            "flex_flow": null,
            "grid_area": null,
            "grid_auto_columns": null,
            "grid_auto_flow": null,
            "grid_auto_rows": null,
            "grid_column": null,
            "grid_gap": null,
            "grid_row": null,
            "grid_template_areas": null,
            "grid_template_columns": null,
            "grid_template_rows": null,
            "height": null,
            "justify_content": null,
            "justify_items": null,
            "left": null,
            "margin": null,
            "max_height": null,
            "max_width": null,
            "min_height": null,
            "min_width": null,
            "object_fit": null,
            "object_position": null,
            "order": null,
            "overflow": null,
            "overflow_x": null,
            "overflow_y": null,
            "padding": null,
            "right": null,
            "top": null,
            "visibility": null,
            "width": "20px"
          }
        },
        "c0d37b05d8a748ba98e63f60c24d7919": {
          "model_module": "@jupyter-widgets/controls",
          "model_name": "ProgressStyleModel",
          "model_module_version": "1.5.0",
          "state": {
            "_model_module": "@jupyter-widgets/controls",
            "_model_module_version": "1.5.0",
            "_model_name": "ProgressStyleModel",
            "_view_count": null,
            "_view_module": "@jupyter-widgets/base",
            "_view_module_version": "1.2.0",
            "_view_name": "StyleView",
            "bar_color": null,
            "description_width": ""
          }
        },
        "2cd8f9f5fe3946d88d2065c7f59f2d5a": {
          "model_module": "@jupyter-widgets/base",
          "model_name": "LayoutModel",
          "model_module_version": "1.2.0",
          "state": {
            "_model_module": "@jupyter-widgets/base",
            "_model_module_version": "1.2.0",
            "_model_name": "LayoutModel",
            "_view_count": null,
            "_view_module": "@jupyter-widgets/base",
            "_view_module_version": "1.2.0",
            "_view_name": "LayoutView",
            "align_content": null,
            "align_items": null,
            "align_self": null,
            "border": null,
            "bottom": null,
            "display": null,
            "flex": null,
            "flex_flow": null,
            "grid_area": null,
            "grid_auto_columns": null,
            "grid_auto_flow": null,
            "grid_auto_rows": null,
            "grid_column": null,
            "grid_gap": null,
            "grid_row": null,
            "grid_template_areas": null,
            "grid_template_columns": null,
            "grid_template_rows": null,
            "height": null,
            "justify_content": null,
            "justify_items": null,
            "left": null,
            "margin": null,
            "max_height": null,
            "max_width": null,
            "min_height": null,
            "min_width": null,
            "object_fit": null,
            "object_position": null,
            "order": null,
            "overflow": null,
            "overflow_x": null,
            "overflow_y": null,
            "padding": null,
            "right": null,
            "top": null,
            "visibility": null,
            "width": null
          }
        },
        "f9f8014408934913a3bae45038b787ae": {
          "model_module": "@jupyter-widgets/controls",
          "model_name": "DescriptionStyleModel",
          "model_module_version": "1.5.0",
          "state": {
            "_model_module": "@jupyter-widgets/controls",
            "_model_module_version": "1.5.0",
            "_model_name": "DescriptionStyleModel",
            "_view_count": null,
            "_view_module": "@jupyter-widgets/base",
            "_view_module_version": "1.2.0",
            "_view_name": "StyleView",
            "description_width": ""
          }
        },
        "367cd0011cf2485488a00ed2d07f1791": {
          "model_module": "@jupyter-widgets/controls",
          "model_name": "HBoxModel",
          "model_module_version": "1.5.0",
          "state": {
            "_dom_classes": [],
            "_model_module": "@jupyter-widgets/controls",
            "_model_module_version": "1.5.0",
            "_model_name": "HBoxModel",
            "_view_count": null,
            "_view_module": "@jupyter-widgets/controls",
            "_view_module_version": "1.5.0",
            "_view_name": "HBoxView",
            "box_style": "",
            "children": [
              "IPY_MODEL_b735040a2ec34b20baa7db23f034684b",
              "IPY_MODEL_8cc6bdea6ea14bc083d91f35880ff7e1",
              "IPY_MODEL_2905d12a52724b99bd67d6e9f5199dba"
            ],
            "layout": "IPY_MODEL_5c29091100d5413185b7136af695bc79"
          }
        },
        "b735040a2ec34b20baa7db23f034684b": {
          "model_module": "@jupyter-widgets/controls",
          "model_name": "HTMLModel",
          "model_module_version": "1.5.0",
          "state": {
            "_dom_classes": [],
            "_model_module": "@jupyter-widgets/controls",
            "_model_module_version": "1.5.0",
            "_model_name": "HTMLModel",
            "_view_count": null,
            "_view_module": "@jupyter-widgets/controls",
            "_view_module_version": "1.5.0",
            "_view_name": "HTMLView",
            "description": "",
            "description_tooltip": null,
            "layout": "IPY_MODEL_d08fdd538fe5432b89c76901b280ebba",
            "placeholder": "​",
            "style": "IPY_MODEL_81767c437fa94c1fa25168021b39d533",
            "value": ""
          }
        },
        "8cc6bdea6ea14bc083d91f35880ff7e1": {
          "model_module": "@jupyter-widgets/controls",
          "model_name": "FloatProgressModel",
          "model_module_version": "1.5.0",
          "state": {
            "_dom_classes": [],
            "_model_module": "@jupyter-widgets/controls",
            "_model_module_version": "1.5.0",
            "_model_name": "FloatProgressModel",
            "_view_count": null,
            "_view_module": "@jupyter-widgets/controls",
            "_view_module_version": "1.5.0",
            "_view_name": "ProgressView",
            "bar_style": "info",
            "description": "",
            "description_tooltip": null,
            "layout": "IPY_MODEL_61da868e9e9940b8b1a250a562820139",
            "max": 1,
            "min": 0,
            "orientation": "horizontal",
            "style": "IPY_MODEL_423288d37a674ff9b4c3189b7ed2022a",
            "value": 1
          }
        },
        "2905d12a52724b99bd67d6e9f5199dba": {
          "model_module": "@jupyter-widgets/controls",
          "model_name": "HTMLModel",
          "model_module_version": "1.5.0",
          "state": {
            "_dom_classes": [],
            "_model_module": "@jupyter-widgets/controls",
            "_model_module_version": "1.5.0",
            "_model_name": "HTMLModel",
            "_view_count": null,
            "_view_module": "@jupyter-widgets/controls",
            "_view_module_version": "1.5.0",
            "_view_name": "HTMLView",
            "description": "",
            "description_tooltip": null,
            "layout": "IPY_MODEL_793ea9ce536149f58202f1ce593a43fb",
            "placeholder": "​",
            "style": "IPY_MODEL_8248576cfd194234a5fcb96ca9e915bb",
            "value": " 10940/0 [00:01&lt;00:00, 5526.63 examples/s]"
          }
        },
        "5c29091100d5413185b7136af695bc79": {
          "model_module": "@jupyter-widgets/base",
          "model_name": "LayoutModel",
          "model_module_version": "1.2.0",
          "state": {
            "_model_module": "@jupyter-widgets/base",
            "_model_module_version": "1.2.0",
            "_model_name": "LayoutModel",
            "_view_count": null,
            "_view_module": "@jupyter-widgets/base",
            "_view_module_version": "1.2.0",
            "_view_name": "LayoutView",
            "align_content": null,
            "align_items": null,
            "align_self": null,
            "border": null,
            "bottom": null,
            "display": null,
            "flex": null,
            "flex_flow": null,
            "grid_area": null,
            "grid_auto_columns": null,
            "grid_auto_flow": null,
            "grid_auto_rows": null,
            "grid_column": null,
            "grid_gap": null,
            "grid_row": null,
            "grid_template_areas": null,
            "grid_template_columns": null,
            "grid_template_rows": null,
            "height": null,
            "justify_content": null,
            "justify_items": null,
            "left": null,
            "margin": null,
            "max_height": null,
            "max_width": null,
            "min_height": null,
            "min_width": null,
            "object_fit": null,
            "object_position": null,
            "order": null,
            "overflow": null,
            "overflow_x": null,
            "overflow_y": null,
            "padding": null,
            "right": null,
            "top": null,
            "visibility": null,
            "width": null
          }
        },
        "d08fdd538fe5432b89c76901b280ebba": {
          "model_module": "@jupyter-widgets/base",
          "model_name": "LayoutModel",
          "model_module_version": "1.2.0",
          "state": {
            "_model_module": "@jupyter-widgets/base",
            "_model_module_version": "1.2.0",
            "_model_name": "LayoutModel",
            "_view_count": null,
            "_view_module": "@jupyter-widgets/base",
            "_view_module_version": "1.2.0",
            "_view_name": "LayoutView",
            "align_content": null,
            "align_items": null,
            "align_self": null,
            "border": null,
            "bottom": null,
            "display": null,
            "flex": null,
            "flex_flow": null,
            "grid_area": null,
            "grid_auto_columns": null,
            "grid_auto_flow": null,
            "grid_auto_rows": null,
            "grid_column": null,
            "grid_gap": null,
            "grid_row": null,
            "grid_template_areas": null,
            "grid_template_columns": null,
            "grid_template_rows": null,
            "height": null,
            "justify_content": null,
            "justify_items": null,
            "left": null,
            "margin": null,
            "max_height": null,
            "max_width": null,
            "min_height": null,
            "min_width": null,
            "object_fit": null,
            "object_position": null,
            "order": null,
            "overflow": null,
            "overflow_x": null,
            "overflow_y": null,
            "padding": null,
            "right": null,
            "top": null,
            "visibility": null,
            "width": null
          }
        },
        "81767c437fa94c1fa25168021b39d533": {
          "model_module": "@jupyter-widgets/controls",
          "model_name": "DescriptionStyleModel",
          "model_module_version": "1.5.0",
          "state": {
            "_model_module": "@jupyter-widgets/controls",
            "_model_module_version": "1.5.0",
            "_model_name": "DescriptionStyleModel",
            "_view_count": null,
            "_view_module": "@jupyter-widgets/base",
            "_view_module_version": "1.2.0",
            "_view_name": "StyleView",
            "description_width": ""
          }
        },
        "61da868e9e9940b8b1a250a562820139": {
          "model_module": "@jupyter-widgets/base",
          "model_name": "LayoutModel",
          "model_module_version": "1.2.0",
          "state": {
            "_model_module": "@jupyter-widgets/base",
            "_model_module_version": "1.2.0",
            "_model_name": "LayoutModel",
            "_view_count": null,
            "_view_module": "@jupyter-widgets/base",
            "_view_module_version": "1.2.0",
            "_view_name": "LayoutView",
            "align_content": null,
            "align_items": null,
            "align_self": null,
            "border": null,
            "bottom": null,
            "display": null,
            "flex": null,
            "flex_flow": null,
            "grid_area": null,
            "grid_auto_columns": null,
            "grid_auto_flow": null,
            "grid_auto_rows": null,
            "grid_column": null,
            "grid_gap": null,
            "grid_row": null,
            "grid_template_areas": null,
            "grid_template_columns": null,
            "grid_template_rows": null,
            "height": null,
            "justify_content": null,
            "justify_items": null,
            "left": null,
            "margin": null,
            "max_height": null,
            "max_width": null,
            "min_height": null,
            "min_width": null,
            "object_fit": null,
            "object_position": null,
            "order": null,
            "overflow": null,
            "overflow_x": null,
            "overflow_y": null,
            "padding": null,
            "right": null,
            "top": null,
            "visibility": null,
            "width": "20px"
          }
        },
        "423288d37a674ff9b4c3189b7ed2022a": {
          "model_module": "@jupyter-widgets/controls",
          "model_name": "ProgressStyleModel",
          "model_module_version": "1.5.0",
          "state": {
            "_model_module": "@jupyter-widgets/controls",
            "_model_module_version": "1.5.0",
            "_model_name": "ProgressStyleModel",
            "_view_count": null,
            "_view_module": "@jupyter-widgets/base",
            "_view_module_version": "1.2.0",
            "_view_name": "StyleView",
            "bar_color": null,
            "description_width": ""
          }
        },
        "793ea9ce536149f58202f1ce593a43fb": {
          "model_module": "@jupyter-widgets/base",
          "model_name": "LayoutModel",
          "model_module_version": "1.2.0",
          "state": {
            "_model_module": "@jupyter-widgets/base",
            "_model_module_version": "1.2.0",
            "_model_name": "LayoutModel",
            "_view_count": null,
            "_view_module": "@jupyter-widgets/base",
            "_view_module_version": "1.2.0",
            "_view_name": "LayoutView",
            "align_content": null,
            "align_items": null,
            "align_self": null,
            "border": null,
            "bottom": null,
            "display": null,
            "flex": null,
            "flex_flow": null,
            "grid_area": null,
            "grid_auto_columns": null,
            "grid_auto_flow": null,
            "grid_auto_rows": null,
            "grid_column": null,
            "grid_gap": null,
            "grid_row": null,
            "grid_template_areas": null,
            "grid_template_columns": null,
            "grid_template_rows": null,
            "height": null,
            "justify_content": null,
            "justify_items": null,
            "left": null,
            "margin": null,
            "max_height": null,
            "max_width": null,
            "min_height": null,
            "min_width": null,
            "object_fit": null,
            "object_position": null,
            "order": null,
            "overflow": null,
            "overflow_x": null,
            "overflow_y": null,
            "padding": null,
            "right": null,
            "top": null,
            "visibility": null,
            "width": null
          }
        },
        "8248576cfd194234a5fcb96ca9e915bb": {
          "model_module": "@jupyter-widgets/controls",
          "model_name": "DescriptionStyleModel",
          "model_module_version": "1.5.0",
          "state": {
            "_model_module": "@jupyter-widgets/controls",
            "_model_module_version": "1.5.0",
            "_model_name": "DescriptionStyleModel",
            "_view_count": null,
            "_view_module": "@jupyter-widgets/base",
            "_view_module_version": "1.2.0",
            "_view_name": "StyleView",
            "description_width": ""
          }
        },
        "cf00f0a8817044d889011e787c815c25": {
          "model_module": "@jupyter-widgets/controls",
          "model_name": "HBoxModel",
          "model_module_version": "1.5.0",
          "state": {
            "_dom_classes": [],
            "_model_module": "@jupyter-widgets/controls",
            "_model_module_version": "1.5.0",
            "_model_name": "HBoxModel",
            "_view_count": null,
            "_view_module": "@jupyter-widgets/controls",
            "_view_module_version": "1.5.0",
            "_view_name": "HBoxView",
            "box_style": "",
            "children": [
              "IPY_MODEL_0af935dc43214daf80fc234c3df9057d",
              "IPY_MODEL_7e5a8ecbbea040b98a5ce9b19093a198",
              "IPY_MODEL_d66e418f77644cd0b8b9a11241ed4b36"
            ],
            "layout": "IPY_MODEL_1d71ec7f3e07483a8f79d4bb36038edd"
          }
        },
        "0af935dc43214daf80fc234c3df9057d": {
          "model_module": "@jupyter-widgets/controls",
          "model_name": "HTMLModel",
          "model_module_version": "1.5.0",
          "state": {
            "_dom_classes": [],
            "_model_module": "@jupyter-widgets/controls",
            "_model_module_version": "1.5.0",
            "_model_name": "HTMLModel",
            "_view_count": null,
            "_view_module": "@jupyter-widgets/controls",
            "_view_module_version": "1.5.0",
            "_view_name": "HTMLView",
            "description": "",
            "description_tooltip": null,
            "layout": "IPY_MODEL_3960c7924f6d46718bbd6c4580313fc1",
            "placeholder": "​",
            "style": "IPY_MODEL_194272b0b6544ba5b248afb23d65838d",
            "value": ""
          }
        },
        "7e5a8ecbbea040b98a5ce9b19093a198": {
          "model_module": "@jupyter-widgets/controls",
          "model_name": "FloatProgressModel",
          "model_module_version": "1.5.0",
          "state": {
            "_dom_classes": [],
            "_model_module": "@jupyter-widgets/controls",
            "_model_module_version": "1.5.0",
            "_model_name": "FloatProgressModel",
            "_view_count": null,
            "_view_module": "@jupyter-widgets/controls",
            "_view_module_version": "1.5.0",
            "_view_name": "ProgressView",
            "bar_style": "success",
            "description": "",
            "description_tooltip": null,
            "layout": "IPY_MODEL_becea06447a94fe1b1e767d3ac1f6ff9",
            "max": 1,
            "min": 0,
            "orientation": "horizontal",
            "style": "IPY_MODEL_ef1b71100c2b4fe982c9da78a1031557",
            "value": 1
          }
        },
        "d66e418f77644cd0b8b9a11241ed4b36": {
          "model_module": "@jupyter-widgets/controls",
          "model_name": "HTMLModel",
          "model_module_version": "1.5.0",
          "state": {
            "_dom_classes": [],
            "_model_module": "@jupyter-widgets/controls",
            "_model_module_version": "1.5.0",
            "_model_name": "HTMLModel",
            "_view_count": null,
            "_view_module": "@jupyter-widgets/controls",
            "_view_module_version": "1.5.0",
            "_view_name": "HTMLView",
            "description": "",
            "description_tooltip": null,
            "layout": "IPY_MODEL_f3ba9ecd2e494fd4ae98e34e5517a8df",
            "placeholder": "​",
            "style": "IPY_MODEL_c97c98f1310a49ddba4039e574739740",
            "value": " 130319/? [00:21&lt;00:00, 5965.25ex/s]"
          }
        },
        "1d71ec7f3e07483a8f79d4bb36038edd": {
          "model_module": "@jupyter-widgets/base",
          "model_name": "LayoutModel",
          "model_module_version": "1.2.0",
          "state": {
            "_model_module": "@jupyter-widgets/base",
            "_model_module_version": "1.2.0",
            "_model_name": "LayoutModel",
            "_view_count": null,
            "_view_module": "@jupyter-widgets/base",
            "_view_module_version": "1.2.0",
            "_view_name": "LayoutView",
            "align_content": null,
            "align_items": null,
            "align_self": null,
            "border": null,
            "bottom": null,
            "display": null,
            "flex": null,
            "flex_flow": null,
            "grid_area": null,
            "grid_auto_columns": null,
            "grid_auto_flow": null,
            "grid_auto_rows": null,
            "grid_column": null,
            "grid_gap": null,
            "grid_row": null,
            "grid_template_areas": null,
            "grid_template_columns": null,
            "grid_template_rows": null,
            "height": null,
            "justify_content": null,
            "justify_items": null,
            "left": null,
            "margin": null,
            "max_height": null,
            "max_width": null,
            "min_height": null,
            "min_width": null,
            "object_fit": null,
            "object_position": null,
            "order": null,
            "overflow": null,
            "overflow_x": null,
            "overflow_y": null,
            "padding": null,
            "right": null,
            "top": null,
            "visibility": null,
            "width": null
          }
        },
        "3960c7924f6d46718bbd6c4580313fc1": {
          "model_module": "@jupyter-widgets/base",
          "model_name": "LayoutModel",
          "model_module_version": "1.2.0",
          "state": {
            "_model_module": "@jupyter-widgets/base",
            "_model_module_version": "1.2.0",
            "_model_name": "LayoutModel",
            "_view_count": null,
            "_view_module": "@jupyter-widgets/base",
            "_view_module_version": "1.2.0",
            "_view_name": "LayoutView",
            "align_content": null,
            "align_items": null,
            "align_self": null,
            "border": null,
            "bottom": null,
            "display": null,
            "flex": null,
            "flex_flow": null,
            "grid_area": null,
            "grid_auto_columns": null,
            "grid_auto_flow": null,
            "grid_auto_rows": null,
            "grid_column": null,
            "grid_gap": null,
            "grid_row": null,
            "grid_template_areas": null,
            "grid_template_columns": null,
            "grid_template_rows": null,
            "height": null,
            "justify_content": null,
            "justify_items": null,
            "left": null,
            "margin": null,
            "max_height": null,
            "max_width": null,
            "min_height": null,
            "min_width": null,
            "object_fit": null,
            "object_position": null,
            "order": null,
            "overflow": null,
            "overflow_x": null,
            "overflow_y": null,
            "padding": null,
            "right": null,
            "top": null,
            "visibility": null,
            "width": null
          }
        },
        "194272b0b6544ba5b248afb23d65838d": {
          "model_module": "@jupyter-widgets/controls",
          "model_name": "DescriptionStyleModel",
          "model_module_version": "1.5.0",
          "state": {
            "_model_module": "@jupyter-widgets/controls",
            "_model_module_version": "1.5.0",
            "_model_name": "DescriptionStyleModel",
            "_view_count": null,
            "_view_module": "@jupyter-widgets/base",
            "_view_module_version": "1.2.0",
            "_view_name": "StyleView",
            "description_width": ""
          }
        },
        "becea06447a94fe1b1e767d3ac1f6ff9": {
          "model_module": "@jupyter-widgets/base",
          "model_name": "LayoutModel",
          "model_module_version": "1.2.0",
          "state": {
            "_model_module": "@jupyter-widgets/base",
            "_model_module_version": "1.2.0",
            "_model_name": "LayoutModel",
            "_view_count": null,
            "_view_module": "@jupyter-widgets/base",
            "_view_module_version": "1.2.0",
            "_view_name": "LayoutView",
            "align_content": null,
            "align_items": null,
            "align_self": null,
            "border": null,
            "bottom": null,
            "display": null,
            "flex": null,
            "flex_flow": null,
            "grid_area": null,
            "grid_auto_columns": null,
            "grid_auto_flow": null,
            "grid_auto_rows": null,
            "grid_column": null,
            "grid_gap": null,
            "grid_row": null,
            "grid_template_areas": null,
            "grid_template_columns": null,
            "grid_template_rows": null,
            "height": null,
            "justify_content": null,
            "justify_items": null,
            "left": null,
            "margin": null,
            "max_height": null,
            "max_width": null,
            "min_height": null,
            "min_width": null,
            "object_fit": null,
            "object_position": null,
            "order": null,
            "overflow": null,
            "overflow_x": null,
            "overflow_y": null,
            "padding": null,
            "right": null,
            "top": null,
            "visibility": null,
            "width": "20px"
          }
        },
        "ef1b71100c2b4fe982c9da78a1031557": {
          "model_module": "@jupyter-widgets/controls",
          "model_name": "ProgressStyleModel",
          "model_module_version": "1.5.0",
          "state": {
            "_model_module": "@jupyter-widgets/controls",
            "_model_module_version": "1.5.0",
            "_model_name": "ProgressStyleModel",
            "_view_count": null,
            "_view_module": "@jupyter-widgets/base",
            "_view_module_version": "1.2.0",
            "_view_name": "StyleView",
            "bar_color": null,
            "description_width": ""
          }
        },
        "f3ba9ecd2e494fd4ae98e34e5517a8df": {
          "model_module": "@jupyter-widgets/base",
          "model_name": "LayoutModel",
          "model_module_version": "1.2.0",
          "state": {
            "_model_module": "@jupyter-widgets/base",
            "_model_module_version": "1.2.0",
            "_model_name": "LayoutModel",
            "_view_count": null,
            "_view_module": "@jupyter-widgets/base",
            "_view_module_version": "1.2.0",
            "_view_name": "LayoutView",
            "align_content": null,
            "align_items": null,
            "align_self": null,
            "border": null,
            "bottom": null,
            "display": null,
            "flex": null,
            "flex_flow": null,
            "grid_area": null,
            "grid_auto_columns": null,
            "grid_auto_flow": null,
            "grid_auto_rows": null,
            "grid_column": null,
            "grid_gap": null,
            "grid_row": null,
            "grid_template_areas": null,
            "grid_template_columns": null,
            "grid_template_rows": null,
            "height": null,
            "justify_content": null,
            "justify_items": null,
            "left": null,
            "margin": null,
            "max_height": null,
            "max_width": null,
            "min_height": null,
            "min_width": null,
            "object_fit": null,
            "object_position": null,
            "order": null,
            "overflow": null,
            "overflow_x": null,
            "overflow_y": null,
            "padding": null,
            "right": null,
            "top": null,
            "visibility": null,
            "width": null
          }
        },
        "c97c98f1310a49ddba4039e574739740": {
          "model_module": "@jupyter-widgets/controls",
          "model_name": "DescriptionStyleModel",
          "model_module_version": "1.5.0",
          "state": {
            "_model_module": "@jupyter-widgets/controls",
            "_model_module_version": "1.5.0",
            "_model_name": "DescriptionStyleModel",
            "_view_count": null,
            "_view_module": "@jupyter-widgets/base",
            "_view_module_version": "1.2.0",
            "_view_name": "StyleView",
            "description_width": ""
          }
        }
      }
    }
  },
  "nbformat_minor": 0,
  "nbformat": 4,
  "cells": [
    {
      "cell_type": "markdown",
      "source": [
        "# Artificial Intelligence II - Homework 4\n",
        "# Fine-tuning BERT for question answering with SQuAD 2.0 "
      ],
      "metadata": {
        "id": "qLAaIaAE9z4D"
      }
    },
    {
      "cell_type": "markdown",
      "source": [
        "**Notes:** \n",
        "1. Some changes in paths will be needed.\n",
        "2. I run the fine-tuning first, saved the model and did the evaluation on another run because the tokenizer used a lot of ram and crashed. \n"
      ],
      "metadata": {
        "id": "NLs58fONFrG3"
      }
    },
    {
      "cell_type": "code",
      "source": [
        "# from google.colab import drive\n",
        "# drive.mount('/content/drive')"
      ],
      "metadata": {
        "id": "dWW0-97QvETZ",
        "execution": {
          "iopub.status.busy": "2022-03-02T01:02:53.688803Z",
          "iopub.execute_input": "2022-03-02T01:02:53.689179Z",
          "iopub.status.idle": "2022-03-02T01:02:53.710568Z",
          "shell.execute_reply.started": "2022-03-02T01:02:53.689085Z",
          "shell.execute_reply": "2022-03-02T01:02:53.709747Z"
        },
        "trusted": true
      },
      "execution_count": null,
      "outputs": []
    },
    {
      "cell_type": "code",
      "source": [
        "# PATH = '/content/drive/MyDrive/Colab Notebooks/Artificial Intelligence II/bert/'"
      ],
      "metadata": {
        "id": "dDtBH8CFwHAt",
        "execution": {
          "iopub.status.busy": "2022-03-02T01:02:53.712029Z",
          "iopub.execute_input": "2022-03-02T01:02:53.712783Z",
          "iopub.status.idle": "2022-03-02T01:02:53.716848Z",
          "shell.execute_reply.started": "2022-03-02T01:02:53.71274Z",
          "shell.execute_reply": "2022-03-02T01:02:53.715966Z"
        },
        "trusted": true
      },
      "execution_count": null,
      "outputs": []
    },
    {
      "cell_type": "markdown",
      "source": [
        "# Import Libraries and Read Datasets"
      ],
      "metadata": {
        "id": "7g50JWXbB2ze"
      }
    },
    {
      "cell_type": "markdown",
      "source": [
        "Import libraries that will be used in this notebook, define a seeding function and set device to cuda if available.\n"
      ],
      "metadata": {
        "id": "rIUe14-z7O9q"
      }
    },
    {
      "cell_type": "code",
      "source": [
        "# Imports\n",
        "import torch\n",
        "import torch.nn as nn\n",
        "import torch.nn.functional as F\n",
        "import torch.optim as optim\n",
        "import os\n",
        "\n",
        "import numpy as np\n",
        "from numpy import unravel_index\n",
        "import pandas as pd\n",
        "import math\n",
        "\n",
        "import random\n",
        "import sys\n",
        "from IPython.display import Image\n",
        "import time\n",
        "\n",
        "# for text preprocessing\n",
        "import re\n",
        "import string\n",
        "\n",
        "!CUBLAS_WORKSPACE_CONFIG=:4096:2 # for cuda deterministic behavior\n",
        "\n",
        "######### BERT ############\n",
        "# first install transformers from hugging face\n",
        "!pip install transformers\n",
        "\n",
        "# imports\n",
        "from transformers import BertTokenizer, BertForQuestionAnswering\n",
        "\n",
        "# dataloaders \n",
        "from torch.utils.data import TensorDataset, DataLoader, RandomSampler, SequentialSampler\n",
        "\n",
        "def set_seed(seed = 1234):\n",
        "    '''Sets the seed of the entire notebook so results are the same every time we run.\n",
        "    This is for REPRODUCIBILITY.'''\n",
        "    np.random.seed(seed)\n",
        "    random.seed(seed)\n",
        "    torch.manual_seed(seed)\n",
        "    torch.cuda.manual_seed(seed)\n",
        "    # When running on the CuDNN backend, two further options must be set\n",
        "    torch.backends.cudnn.deterministic = True\n",
        "    torch.cuda.manual_seed_all(seed)\n",
        "    torch.backends.cudnn.enabled = False\n",
        "    torch.backends.cudnn.benchmark = False\n",
        "    # torch.use_deterministic_algorithms(False)\n",
        "    # Set a fixed value for the hash seed\n",
        "    os.environ['PYTHONHASHSEED'] = str(seed)\n",
        "    \n",
        "set_seed()\n",
        "\n",
        "# Set device\n",
        "device = torch.device(\"cuda\" if torch.cuda.is_available() else \"cpu\")\n",
        "\n",
        "print('Working on:', device)"
      ],
      "metadata": {
        "id": "A7j9F1YTMFuE",
        "outputId": "d552f07e-cefb-49be-88cb-a2e0fa4e8274",
        "execution": {
          "iopub.status.busy": "2022-03-03T12:24:11.851241Z",
          "iopub.execute_input": "2022-03-03T12:24:11.852124Z",
          "iopub.status.idle": "2022-03-03T12:24:23.799745Z",
          "shell.execute_reply.started": "2022-03-03T12:24:11.851982Z",
          "shell.execute_reply": "2022-03-03T12:24:23.798827Z"
        },
        "trusted": true,
        "colab": {
          "base_uri": "https://localhost:8080/"
        }
      },
      "execution_count": null,
      "outputs": [
        {
          "output_type": "stream",
          "name": "stdout",
          "text": [
            "Collecting transformers\n",
            "  Downloading transformers-4.17.0-py3-none-any.whl (3.8 MB)\n",
            "\u001b[K     |████████████████████████████████| 3.8 MB 3.2 MB/s \n",
            "\u001b[?25hCollecting tokenizers!=0.11.3,>=0.11.1\n",
            "  Downloading tokenizers-0.11.6-cp37-cp37m-manylinux_2_12_x86_64.manylinux2010_x86_64.whl (6.5 MB)\n",
            "\u001b[K     |████████████████████████████████| 6.5 MB 50.5 MB/s \n",
            "\u001b[?25hRequirement already satisfied: regex!=2019.12.17 in /usr/local/lib/python3.7/dist-packages (from transformers) (2019.12.20)\n",
            "Requirement already satisfied: filelock in /usr/local/lib/python3.7/dist-packages (from transformers) (3.6.0)\n",
            "Collecting pyyaml>=5.1\n",
            "  Downloading PyYAML-6.0-cp37-cp37m-manylinux_2_5_x86_64.manylinux1_x86_64.manylinux_2_12_x86_64.manylinux2010_x86_64.whl (596 kB)\n",
            "\u001b[K     |████████████████████████████████| 596 kB 45.6 MB/s \n",
            "\u001b[?25hRequirement already satisfied: importlib-metadata in /usr/local/lib/python3.7/dist-packages (from transformers) (4.11.2)\n",
            "Requirement already satisfied: numpy>=1.17 in /usr/local/lib/python3.7/dist-packages (from transformers) (1.21.5)\n",
            "Requirement already satisfied: packaging>=20.0 in /usr/local/lib/python3.7/dist-packages (from transformers) (21.3)\n",
            "Requirement already satisfied: requests in /usr/local/lib/python3.7/dist-packages (from transformers) (2.23.0)\n",
            "Collecting huggingface-hub<1.0,>=0.1.0\n",
            "  Downloading huggingface_hub-0.4.0-py3-none-any.whl (67 kB)\n",
            "\u001b[K     |████████████████████████████████| 67 kB 3.9 MB/s \n",
            "\u001b[?25hRequirement already satisfied: tqdm>=4.27 in /usr/local/lib/python3.7/dist-packages (from transformers) (4.63.0)\n",
            "Collecting sacremoses\n",
            "  Downloading sacremoses-0.0.47-py2.py3-none-any.whl (895 kB)\n",
            "\u001b[K     |████████████████████████████████| 895 kB 47.3 MB/s \n",
            "\u001b[?25hRequirement already satisfied: typing-extensions>=3.7.4.3 in /usr/local/lib/python3.7/dist-packages (from huggingface-hub<1.0,>=0.1.0->transformers) (3.10.0.2)\n",
            "Requirement already satisfied: pyparsing!=3.0.5,>=2.0.2 in /usr/local/lib/python3.7/dist-packages (from packaging>=20.0->transformers) (3.0.7)\n",
            "Requirement already satisfied: zipp>=0.5 in /usr/local/lib/python3.7/dist-packages (from importlib-metadata->transformers) (3.7.0)\n",
            "Requirement already satisfied: chardet<4,>=3.0.2 in /usr/local/lib/python3.7/dist-packages (from requests->transformers) (3.0.4)\n",
            "Requirement already satisfied: idna<3,>=2.5 in /usr/local/lib/python3.7/dist-packages (from requests->transformers) (2.10)\n",
            "Requirement already satisfied: certifi>=2017.4.17 in /usr/local/lib/python3.7/dist-packages (from requests->transformers) (2021.10.8)\n",
            "Requirement already satisfied: urllib3!=1.25.0,!=1.25.1,<1.26,>=1.21.1 in /usr/local/lib/python3.7/dist-packages (from requests->transformers) (1.24.3)\n",
            "Requirement already satisfied: joblib in /usr/local/lib/python3.7/dist-packages (from sacremoses->transformers) (1.1.0)\n",
            "Requirement already satisfied: six in /usr/local/lib/python3.7/dist-packages (from sacremoses->transformers) (1.15.0)\n",
            "Requirement already satisfied: click in /usr/local/lib/python3.7/dist-packages (from sacremoses->transformers) (7.1.2)\n",
            "Installing collected packages: pyyaml, tokenizers, sacremoses, huggingface-hub, transformers\n",
            "  Attempting uninstall: pyyaml\n",
            "    Found existing installation: PyYAML 3.13\n",
            "    Uninstalling PyYAML-3.13:\n",
            "      Successfully uninstalled PyYAML-3.13\n",
            "Successfully installed huggingface-hub-0.4.0 pyyaml-6.0 sacremoses-0.0.47 tokenizers-0.11.6 transformers-4.17.0\n",
            "Working on: cpu\n"
          ]
        }
      ]
    },
    {
      "cell_type": "markdown",
      "source": [
        "Load SQuAD 2.0 Dataset\n",
        "\n",
        "I used the datasets library from hugging face."
      ],
      "metadata": {
        "id": "63U7HoojY7d4"
      }
    },
    {
      "cell_type": "code",
      "source": [
        "!pip install datasets\n",
        "from datasets import load_dataset"
      ],
      "metadata": {
        "id": "CjtAYmNKY_Ew",
        "outputId": "7e7203cf-eab4-4cd3-f625-55f49509785c",
        "execution": {
          "iopub.status.busy": "2022-03-03T12:24:23.801675Z",
          "iopub.execute_input": "2022-03-03T12:24:23.801932Z",
          "iopub.status.idle": "2022-03-03T12:24:32.287916Z",
          "shell.execute_reply.started": "2022-03-03T12:24:23.801894Z",
          "shell.execute_reply": "2022-03-03T12:24:32.287190Z"
        },
        "trusted": true,
        "colab": {
          "base_uri": "https://localhost:8080/",
          "height": 1000
        }
      },
      "execution_count": null,
      "outputs": [
        {
          "output_type": "stream",
          "name": "stdout",
          "text": [
            "Collecting datasets\n",
            "  Downloading datasets-1.18.4-py3-none-any.whl (312 kB)\n",
            "\u001b[K     |████████████████████████████████| 312 kB 3.1 MB/s \n",
            "\u001b[?25hRequirement already satisfied: dill in /usr/local/lib/python3.7/dist-packages (from datasets) (0.3.4)\n",
            "Requirement already satisfied: multiprocess in /usr/local/lib/python3.7/dist-packages (from datasets) (0.70.12.2)\n",
            "Requirement already satisfied: packaging in /usr/local/lib/python3.7/dist-packages (from datasets) (21.3)\n",
            "Collecting xxhash\n",
            "  Downloading xxhash-3.0.0-cp37-cp37m-manylinux_2_17_x86_64.manylinux2014_x86_64.whl (212 kB)\n",
            "\u001b[K     |████████████████████████████████| 212 kB 50.5 MB/s \n",
            "\u001b[?25hCollecting fsspec[http]>=2021.05.0\n",
            "  Downloading fsspec-2022.2.0-py3-none-any.whl (134 kB)\n",
            "\u001b[K     |████████████████████████████████| 134 kB 43.6 MB/s \n",
            "\u001b[?25hRequirement already satisfied: numpy>=1.17 in /usr/local/lib/python3.7/dist-packages (from datasets) (1.21.5)\n",
            "Requirement already satisfied: pyarrow!=4.0.0,>=3.0.0 in /usr/local/lib/python3.7/dist-packages (from datasets) (6.0.1)\n",
            "Collecting responses<0.19\n",
            "  Downloading responses-0.18.0-py3-none-any.whl (38 kB)\n",
            "Requirement already satisfied: pandas in /usr/local/lib/python3.7/dist-packages (from datasets) (1.3.5)\n",
            "Requirement already satisfied: tqdm>=4.62.1 in /usr/local/lib/python3.7/dist-packages (from datasets) (4.63.0)\n",
            "Requirement already satisfied: huggingface-hub<1.0.0,>=0.1.0 in /usr/local/lib/python3.7/dist-packages (from datasets) (0.4.0)\n",
            "Requirement already satisfied: importlib-metadata in /usr/local/lib/python3.7/dist-packages (from datasets) (4.11.2)\n",
            "Collecting aiohttp\n",
            "  Downloading aiohttp-3.8.1-cp37-cp37m-manylinux_2_5_x86_64.manylinux1_x86_64.manylinux_2_12_x86_64.manylinux2010_x86_64.whl (1.1 MB)\n",
            "\u001b[K     |████████████████████████████████| 1.1 MB 51.7 MB/s \n",
            "\u001b[?25hRequirement already satisfied: requests>=2.19.0 in /usr/local/lib/python3.7/dist-packages (from datasets) (2.23.0)\n",
            "Requirement already satisfied: pyyaml in /usr/local/lib/python3.7/dist-packages (from huggingface-hub<1.0.0,>=0.1.0->datasets) (6.0)\n",
            "Requirement already satisfied: typing-extensions>=3.7.4.3 in /usr/local/lib/python3.7/dist-packages (from huggingface-hub<1.0.0,>=0.1.0->datasets) (3.10.0.2)\n",
            "Requirement already satisfied: filelock in /usr/local/lib/python3.7/dist-packages (from huggingface-hub<1.0.0,>=0.1.0->datasets) (3.6.0)\n",
            "Requirement already satisfied: pyparsing!=3.0.5,>=2.0.2 in /usr/local/lib/python3.7/dist-packages (from packaging->datasets) (3.0.7)\n",
            "Requirement already satisfied: certifi>=2017.4.17 in /usr/local/lib/python3.7/dist-packages (from requests>=2.19.0->datasets) (2021.10.8)\n",
            "Requirement already satisfied: urllib3!=1.25.0,!=1.25.1,<1.26,>=1.21.1 in /usr/local/lib/python3.7/dist-packages (from requests>=2.19.0->datasets) (1.24.3)\n",
            "Requirement already satisfied: chardet<4,>=3.0.2 in /usr/local/lib/python3.7/dist-packages (from requests>=2.19.0->datasets) (3.0.4)\n",
            "Requirement already satisfied: idna<3,>=2.5 in /usr/local/lib/python3.7/dist-packages (from requests>=2.19.0->datasets) (2.10)\n",
            "Collecting urllib3!=1.25.0,!=1.25.1,<1.26,>=1.21.1\n",
            "  Downloading urllib3-1.25.11-py2.py3-none-any.whl (127 kB)\n",
            "\u001b[K     |████████████████████████████████| 127 kB 1.7 MB/s \n",
            "\u001b[?25hCollecting yarl<2.0,>=1.0\n",
            "  Downloading yarl-1.7.2-cp37-cp37m-manylinux_2_5_x86_64.manylinux1_x86_64.manylinux_2_12_x86_64.manylinux2010_x86_64.whl (271 kB)\n",
            "\u001b[K     |████████████████████████████████| 271 kB 32.9 MB/s \n",
            "\u001b[?25hRequirement already satisfied: charset-normalizer<3.0,>=2.0 in /usr/local/lib/python3.7/dist-packages (from aiohttp->datasets) (2.0.12)\n",
            "Collecting multidict<7.0,>=4.5\n",
            "  Downloading multidict-6.0.2-cp37-cp37m-manylinux_2_17_x86_64.manylinux2014_x86_64.whl (94 kB)\n",
            "\u001b[K     |████████████████████████████████| 94 kB 1.3 MB/s \n",
            "\u001b[?25hCollecting frozenlist>=1.1.1\n",
            "  Downloading frozenlist-1.3.0-cp37-cp37m-manylinux_2_5_x86_64.manylinux1_x86_64.manylinux_2_17_x86_64.manylinux2014_x86_64.whl (144 kB)\n",
            "\u001b[K     |████████████████████████████████| 144 kB 41.6 MB/s \n",
            "\u001b[?25hRequirement already satisfied: attrs>=17.3.0 in /usr/local/lib/python3.7/dist-packages (from aiohttp->datasets) (21.4.0)\n",
            "Collecting asynctest==0.13.0\n",
            "  Downloading asynctest-0.13.0-py3-none-any.whl (26 kB)\n",
            "Collecting aiosignal>=1.1.2\n",
            "  Downloading aiosignal-1.2.0-py3-none-any.whl (8.2 kB)\n",
            "Collecting async-timeout<5.0,>=4.0.0a3\n",
            "  Downloading async_timeout-4.0.2-py3-none-any.whl (5.8 kB)\n",
            "Requirement already satisfied: zipp>=0.5 in /usr/local/lib/python3.7/dist-packages (from importlib-metadata->datasets) (3.7.0)\n",
            "Requirement already satisfied: python-dateutil>=2.7.3 in /usr/local/lib/python3.7/dist-packages (from pandas->datasets) (2.8.2)\n",
            "Requirement already satisfied: pytz>=2017.3 in /usr/local/lib/python3.7/dist-packages (from pandas->datasets) (2018.9)\n",
            "Requirement already satisfied: six>=1.5 in /usr/local/lib/python3.7/dist-packages (from python-dateutil>=2.7.3->pandas->datasets) (1.15.0)\n",
            "Installing collected packages: multidict, frozenlist, yarl, urllib3, asynctest, async-timeout, aiosignal, fsspec, aiohttp, xxhash, responses, datasets\n",
            "  Attempting uninstall: urllib3\n",
            "    Found existing installation: urllib3 1.24.3\n",
            "    Uninstalling urllib3-1.24.3:\n",
            "      Successfully uninstalled urllib3-1.24.3\n",
            "\u001b[31mERROR: pip's dependency resolver does not currently take into account all the packages that are installed. This behaviour is the source of the following dependency conflicts.\n",
            "datascience 0.10.6 requires folium==0.2.1, but you have folium 0.8.3 which is incompatible.\u001b[0m\n",
            "Successfully installed aiohttp-3.8.1 aiosignal-1.2.0 async-timeout-4.0.2 asynctest-0.13.0 datasets-1.18.4 frozenlist-1.3.0 fsspec-2022.2.0 multidict-6.0.2 responses-0.18.0 urllib3-1.25.11 xxhash-3.0.0 yarl-1.7.2\n"
          ]
        },
        {
          "output_type": "display_data",
          "data": {
            "application/vnd.colab-display-data+json": {
              "pip_warning": {
                "packages": [
                  "urllib3"
                ]
              }
            }
          },
          "metadata": {}
        }
      ]
    },
    {
      "cell_type": "code",
      "source": [
        "train_dataset = load_dataset('squad_v2', split='train')"
      ],
      "metadata": {
        "outputId": "a056cce1-1197-4659-fd91-262fb440f266",
        "execution": {
          "iopub.status.busy": "2022-03-02T18:01:49.692611Z",
          "iopub.execute_input": "2022-03-02T18:01:49.692960Z",
          "iopub.status.idle": "2022-03-02T18:02:07.785776Z",
          "shell.execute_reply.started": "2022-03-02T18:01:49.692917Z",
          "shell.execute_reply": "2022-03-02T18:02:07.784859Z"
        },
        "trusted": true,
        "colab": {
          "referenced_widgets": [
            "6bad2bfa95c14750876410c208812754",
            "4f10b1c3d66e4548b3505738546566e6",
            "628f0ce25ac84acc80964f87b1d15a37",
            "b0b9e77b069c499fba22604a3d6e1311",
            "c7967dc46b934c67aa1e0ff2c17f1891",
            "d1c1c269da2146eeab7e5c836b7ef636",
            "37dab352f0cd428a9c50ed773182dac5",
            "381d4b228e024ce698844c2b84aba1a3",
            "078ab3d4f06f4c869340275dbc454403",
            "a6dda77c20f6407ea97d8be701178675",
            "55dd2971308449cfa597d1cdb2f129a5",
            "4fd1b1392dc1442595af9cc0f9abc019",
            "c12cf00be78c4c6599c2fbe53abe7a73",
            "192c92eb9beb4cd88ef4a25f66526b01",
            "2ec522cd36274933aea9b7e45ec3d4b1",
            "6db23170a57e4fdf928eee915340755f",
            "f65945b9f1384c6eb2f4a315f3205c16",
            "6dde85a030bf46c881a811a2f8d69b8a",
            "f6d51807673a4eac91134688d5389b4a",
            "505bb482853c40a48c174d4ffd078d06",
            "e21e9a8e78de4be5ae852b3d7d2cc873",
            "7c975c8a1f284e1c9cf76b374ab2d5a5",
            "c93abf2eafd1459885e2380b3e4020be",
            "c71d4215cff240d98a9e682936c3bad8",
            "d11b00e053044e8f948e748bbee29f3a",
            "df25cbbf1fdb4da1b4193fb979c77ddd",
            "bde03e11cebc4b8bb2ba983960f4f708",
            "557e935631094ebfb282d9469d7ee4a3",
            "b596ffe274264510887749bdd927e1c3",
            "60b94ae30f264acfa8ea319c45aa0738",
            "9874aabe683d4d368045e1a65eed0ad7",
            "21c97e186b3a46528c700aa454b57fdb",
            "6b1955b5c3464ab4b28ad78458a1b6d4",
            "2c12b6a789b04818b3cfa0ca04f83893",
            "dcee2a3baa8342fbafe503380d0f7537",
            "b979dc07bb8a4a57bd636fe6d8263e19",
            "1d2a821d825e488e8ed28ed49fe48d91",
            "655fdd11e24340719f294755c1e191a5",
            "780c3cb2e1a84110a939f9a6e648904c",
            "49d2e0cd153b49aba6320f914e164dfd",
            "1a40079075f74c32bc033e8379b7571a",
            "3fd21a2f9f5448fc925a3c4cfec76488",
            "87844727f74e4840bf1ff0ddf65215f8",
            "4fe5168ff658402992d2f58dd502300a",
            "afa0a78b8bd14dc0aa646fe99a0311d9",
            "571ffaa9c5b049e1a9c339dcdbc1bc0e",
            "4216fd1cdff346f1a779355ad6ce63ab",
            "eeb1f6f8ff7841949ded4bf969f7c3d0",
            "681642a617304a03901bbbf352564f07",
            "8dd81bd266bc4cf79a0249955e1e3dcf",
            "8516cb1ee62f4047b844a01fc2156b28",
            "16079976cbf84c2dbec2acdbe9bcd66f",
            "8f31626586f24d479284251b79363983",
            "88a6da5379194f218e7dd74d4078f23c",
            "46bffec8ab7440f58072e3413db011f6",
            "d36bfa7db3244e73af23b7e9275ce5ee",
            "5c8ee5b59f8f43a093111a4eb3073a7a",
            "89b97deb710c4552917d8f79e79dfa9f",
            "9b0143374a7b4b37be6714f448930e56",
            "68aa94c1e457420d885317b2d46d2e75",
            "ac72f988586c4b59aca873ec1d1f97e6",
            "4ee8786f442b4ef3b2e18e5cd8b5b633",
            "cbe7a41c060649d4a9d72e33f876337f",
            "4a43d788091148889b6feed98bbc048a",
            "4be61b1fddcd4cf698a29e417a016eba",
            "73e2ea1ad202451c85ef293efa9ba4f3",
            "9c46a74bfe5745bea720a02c6f54106b",
            "9206ea92348a44779ffae019d0c68255",
            "497f840be41f4f71a89866d2d0bc92b8",
            "895c1ea1f99d4083873218a3c38560b9",
            "bc585a8048c54ca2bb76fd17e17a1383",
            "400ee800146049bc85489a3ba74da0c2",
            "d8847b9ba7a2461cbe8bc1a8264f511c",
            "7df95a56e6cd4593bfe2ae576456306f",
            "c0d37b05d8a748ba98e63f60c24d7919",
            "2cd8f9f5fe3946d88d2065c7f59f2d5a",
            "f9f8014408934913a3bae45038b787ae",
            "367cd0011cf2485488a00ed2d07f1791",
            "b735040a2ec34b20baa7db23f034684b",
            "8cc6bdea6ea14bc083d91f35880ff7e1",
            "2905d12a52724b99bd67d6e9f5199dba",
            "5c29091100d5413185b7136af695bc79",
            "d08fdd538fe5432b89c76901b280ebba",
            "81767c437fa94c1fa25168021b39d533",
            "61da868e9e9940b8b1a250a562820139",
            "423288d37a674ff9b4c3189b7ed2022a",
            "793ea9ce536149f58202f1ce593a43fb",
            "8248576cfd194234a5fcb96ca9e915bb"
          ],
          "base_uri": "https://localhost:8080/",
          "height": 264
        },
        "id": "mVUMMoVoyTRy"
      },
      "execution_count": null,
      "outputs": [
        {
          "output_type": "display_data",
          "data": {
            "text/plain": [
              "Downloading:   0%|          | 0.00/1.87k [00:00<?, ?B/s]"
            ],
            "application/vnd.jupyter.widget-view+json": {
              "version_major": 2,
              "version_minor": 0,
              "model_id": "6bad2bfa95c14750876410c208812754"
            }
          },
          "metadata": {}
        },
        {
          "output_type": "display_data",
          "data": {
            "text/plain": [
              "Downloading:   0%|          | 0.00/1.02k [00:00<?, ?B/s]"
            ],
            "application/vnd.jupyter.widget-view+json": {
              "version_major": 2,
              "version_minor": 0,
              "model_id": "4fd1b1392dc1442595af9cc0f9abc019"
            }
          },
          "metadata": {}
        },
        {
          "output_type": "stream",
          "name": "stdout",
          "text": [
            "Downloading and preparing dataset squad_v2/squad_v2 (download: 44.34 MiB, generated: 122.41 MiB, post-processed: Unknown size, total: 166.75 MiB) to /root/.cache/huggingface/datasets/squad_v2/squad_v2/2.0.0/09187c73c1b837c95d9a249cd97c2c3f1cebada06efe667b4427714b27639b1d...\n"
          ]
        },
        {
          "output_type": "display_data",
          "data": {
            "text/plain": [
              "  0%|          | 0/2 [00:00<?, ?it/s]"
            ],
            "application/vnd.jupyter.widget-view+json": {
              "version_major": 2,
              "version_minor": 0,
              "model_id": "c93abf2eafd1459885e2380b3e4020be"
            }
          },
          "metadata": {}
        },
        {
          "output_type": "display_data",
          "data": {
            "text/plain": [
              "Downloading:   0%|          | 0.00/9.55M [00:00<?, ?B/s]"
            ],
            "application/vnd.jupyter.widget-view+json": {
              "version_major": 2,
              "version_minor": 0,
              "model_id": "2c12b6a789b04818b3cfa0ca04f83893"
            }
          },
          "metadata": {}
        },
        {
          "output_type": "display_data",
          "data": {
            "text/plain": [
              "Downloading:   0%|          | 0.00/801k [00:00<?, ?B/s]"
            ],
            "application/vnd.jupyter.widget-view+json": {
              "version_major": 2,
              "version_minor": 0,
              "model_id": "afa0a78b8bd14dc0aa646fe99a0311d9"
            }
          },
          "metadata": {}
        },
        {
          "output_type": "display_data",
          "data": {
            "text/plain": [
              "  0%|          | 0/2 [00:00<?, ?it/s]"
            ],
            "application/vnd.jupyter.widget-view+json": {
              "version_major": 2,
              "version_minor": 0,
              "model_id": "d36bfa7db3244e73af23b7e9275ce5ee"
            }
          },
          "metadata": {}
        },
        {
          "output_type": "display_data",
          "data": {
            "text/plain": [
              "0 examples [00:00, ? examples/s]"
            ],
            "application/vnd.jupyter.widget-view+json": {
              "version_major": 2,
              "version_minor": 0,
              "model_id": "9c46a74bfe5745bea720a02c6f54106b"
            }
          },
          "metadata": {}
        },
        {
          "output_type": "display_data",
          "data": {
            "text/plain": [
              "0 examples [00:00, ? examples/s]"
            ],
            "application/vnd.jupyter.widget-view+json": {
              "version_major": 2,
              "version_minor": 0,
              "model_id": "367cd0011cf2485488a00ed2d07f1791"
            }
          },
          "metadata": {}
        },
        {
          "output_type": "stream",
          "name": "stdout",
          "text": [
            "Dataset squad_v2 downloaded and prepared to /root/.cache/huggingface/datasets/squad_v2/squad_v2/2.0.0/09187c73c1b837c95d9a249cd97c2c3f1cebada06efe667b4427714b27639b1d. Subsequent calls will reuse this data.\n"
          ]
        }
      ]
    },
    {
      "cell_type": "code",
      "source": [
        "validation_dataset = load_dataset('squad_v2', split='validation')"
      ],
      "metadata": {
        "execution": {
          "iopub.status.busy": "2022-03-02T18:02:07.787079Z",
          "iopub.execute_input": "2022-03-02T18:02:07.787404Z",
          "iopub.status.idle": "2022-03-02T18:02:08.380664Z",
          "shell.execute_reply.started": "2022-03-02T18:02:07.787364Z",
          "shell.execute_reply": "2022-03-02T18:02:08.379887Z"
        },
        "trusted": true,
        "colab": {
          "base_uri": "https://localhost:8080/"
        },
        "id": "sXoYvIi3yTRy",
        "outputId": "5e629681-ff41-4bb0-d487-0033ccf3ae32"
      },
      "execution_count": null,
      "outputs": [
        {
          "output_type": "stream",
          "name": "stderr",
          "text": [
            "Reusing dataset squad_v2 (/root/.cache/huggingface/datasets/squad_v2/squad_v2/2.0.0/09187c73c1b837c95d9a249cd97c2c3f1cebada06efe667b4427714b27639b1d)\n"
          ]
        }
      ]
    },
    {
      "cell_type": "markdown",
      "source": [
        "Overview of the feature names of the dataset."
      ],
      "metadata": {
        "id": "CWI53qMIwYkN"
      }
    },
    {
      "cell_type": "code",
      "source": [
        "train_dataset"
      ],
      "metadata": {
        "id": "9G1jIkwxj5EQ",
        "outputId": "65fa5525-0679-4a27-8419-d85096522f57",
        "execution": {
          "iopub.status.busy": "2022-03-02T18:02:11.255286Z",
          "iopub.execute_input": "2022-03-02T18:02:11.255784Z",
          "iopub.status.idle": "2022-03-02T18:02:11.2625Z",
          "shell.execute_reply.started": "2022-03-02T18:02:11.255746Z",
          "shell.execute_reply": "2022-03-02T18:02:11.2618Z"
        },
        "trusted": true,
        "colab": {
          "base_uri": "https://localhost:8080/"
        }
      },
      "execution_count": null,
      "outputs": [
        {
          "output_type": "execute_result",
          "data": {
            "text/plain": [
              "Dataset({\n",
              "    features: ['id', 'title', 'context', 'question', 'answers'],\n",
              "    num_rows: 130319\n",
              "})"
            ]
          },
          "metadata": {},
          "execution_count": 5
        }
      ]
    },
    {
      "cell_type": "markdown",
      "source": [
        "Let's print the first example.\n",
        "\n",
        "We see that for 'answers' column the dataset contains a dictionary with keys 'text' and 'answer_start', that each contain a list with one element. "
      ],
      "metadata": {
        "id": "ufdBxvxSwYkO"
      }
    },
    {
      "cell_type": "code",
      "source": [
        "train_dataset[0]"
      ],
      "metadata": {
        "id": "5QWlfsFA9lvc",
        "outputId": "76390ac4-9b16-4cf8-c6ac-a5e3ce887ac6",
        "execution": {
          "iopub.status.busy": "2022-03-02T18:02:13.71929Z",
          "iopub.execute_input": "2022-03-02T18:02:13.720154Z",
          "iopub.status.idle": "2022-03-02T18:02:13.726714Z",
          "shell.execute_reply.started": "2022-03-02T18:02:13.720094Z",
          "shell.execute_reply": "2022-03-02T18:02:13.726038Z"
        },
        "trusted": true,
        "colab": {
          "base_uri": "https://localhost:8080/"
        }
      },
      "execution_count": null,
      "outputs": [
        {
          "output_type": "execute_result",
          "data": {
            "text/plain": [
              "{'answers': {'answer_start': [269], 'text': ['in the late 1990s']},\n",
              " 'context': 'Beyoncé Giselle Knowles-Carter (/biːˈjɒnseɪ/ bee-YON-say) (born September 4, 1981) is an American singer, songwriter, record producer and actress. Born and raised in Houston, Texas, she performed in various singing and dancing competitions as a child, and rose to fame in the late 1990s as lead singer of R&B girl-group Destiny\\'s Child. Managed by her father, Mathew Knowles, the group became one of the world\\'s best-selling girl groups of all time. Their hiatus saw the release of Beyoncé\\'s debut album, Dangerously in Love (2003), which established her as a solo artist worldwide, earned five Grammy Awards and featured the Billboard Hot 100 number-one singles \"Crazy in Love\" and \"Baby Boy\".',\n",
              " 'id': '56be85543aeaaa14008c9063',\n",
              " 'question': 'When did Beyonce start becoming popular?',\n",
              " 'title': 'Beyoncé'}"
            ]
          },
          "metadata": {},
          "execution_count": 6
        }
      ]
    },
    {
      "cell_type": "markdown",
      "source": [
        "Same features for the validation dataset."
      ],
      "metadata": {
        "id": "m9XxKHxGwYkO"
      }
    },
    {
      "cell_type": "code",
      "source": [
        "validation_dataset"
      ],
      "metadata": {
        "id": "eVVrUwynQGbg",
        "outputId": "3660deef-211e-42db-c006-caaadec9ae32",
        "execution": {
          "iopub.status.busy": "2022-03-02T18:02:18.352897Z",
          "iopub.execute_input": "2022-03-02T18:02:18.353157Z",
          "iopub.status.idle": "2022-03-02T18:02:18.358852Z",
          "shell.execute_reply.started": "2022-03-02T18:02:18.353123Z",
          "shell.execute_reply": "2022-03-02T18:02:18.358015Z"
        },
        "trusted": true,
        "colab": {
          "base_uri": "https://localhost:8080/"
        }
      },
      "execution_count": null,
      "outputs": [
        {
          "output_type": "execute_result",
          "data": {
            "text/plain": [
              "Dataset({\n",
              "    features: ['id', 'title', 'context', 'question', 'answers'],\n",
              "    num_rows: 11873\n",
              "})"
            ]
          },
          "metadata": {},
          "execution_count": 7
        }
      ]
    },
    {
      "cell_type": "markdown",
      "source": [
        "In validation, the column 'answers' contains a dictionary with keys 'text' and 'answer_start' as well, but each contains a list with multiple elements"
      ],
      "metadata": {
        "id": "6zi4D_mQwYkP"
      }
    },
    {
      "cell_type": "code",
      "source": [
        "validation_dataset[0]"
      ],
      "metadata": {
        "execution": {
          "iopub.status.busy": "2022-03-02T18:02:21.41556Z",
          "iopub.execute_input": "2022-03-02T18:02:21.416172Z",
          "iopub.status.idle": "2022-03-02T18:02:21.423703Z",
          "shell.execute_reply.started": "2022-03-02T18:02:21.416134Z",
          "shell.execute_reply": "2022-03-02T18:02:21.423046Z"
        },
        "trusted": true,
        "colab": {
          "base_uri": "https://localhost:8080/"
        },
        "id": "5LvIVJ9KwYkP",
        "outputId": "6fce6890-5f14-49dd-ad39-0c91926901fd"
      },
      "execution_count": null,
      "outputs": [
        {
          "output_type": "execute_result",
          "data": {
            "text/plain": [
              "{'answers': {'answer_start': [159, 159, 159, 159],\n",
              "  'text': ['France', 'France', 'France', 'France']},\n",
              " 'context': 'The Normans (Norman: Nourmands; French: Normands; Latin: Normanni) were the people who in the 10th and 11th centuries gave their name to Normandy, a region in France. They were descended from Norse (\"Norman\" comes from \"Norseman\") raiders and pirates from Denmark, Iceland and Norway who, under their leader Rollo, agreed to swear fealty to King Charles III of West Francia. Through generations of assimilation and mixing with the native Frankish and Roman-Gaulish populations, their descendants would gradually merge with the Carolingian-based cultures of West Francia. The distinct cultural and ethnic identity of the Normans emerged initially in the first half of the 10th century, and it continued to evolve over the succeeding centuries.',\n",
              " 'id': '56ddde6b9a695914005b9628',\n",
              " 'question': 'In what country is Normandy located?',\n",
              " 'title': 'Normans'}"
            ]
          },
          "metadata": {},
          "execution_count": 8
        }
      ]
    },
    {
      "cell_type": "markdown",
      "source": [
        "If there is no answer, the lists are empty"
      ],
      "metadata": {
        "id": "V8Mk2kJ5wYkP"
      }
    },
    {
      "cell_type": "code",
      "source": [
        "validation_dataset[-10]"
      ],
      "metadata": {
        "id": "JVdlfwpmQK38",
        "outputId": "bec254b5-e837-40bd-b0d7-36536c356a64",
        "execution": {
          "iopub.status.busy": "2022-03-02T18:02:24.774838Z",
          "iopub.execute_input": "2022-03-02T18:02:24.775382Z",
          "iopub.status.idle": "2022-03-02T18:02:24.782185Z",
          "shell.execute_reply.started": "2022-03-02T18:02:24.775342Z",
          "shell.execute_reply": "2022-03-02T18:02:24.781342Z"
        },
        "trusted": true,
        "colab": {
          "base_uri": "https://localhost:8080/"
        }
      },
      "execution_count": null,
      "outputs": [
        {
          "output_type": "execute_result",
          "data": {
            "text/plain": [
              "{'answers': {'answer_start': [], 'text': []},\n",
              " 'context': 'The connection between macroscopic nonconservative forces and microscopic conservative forces is described by detailed treatment with statistical mechanics. In macroscopic closed systems, nonconservative forces act to change the internal energies of the system, and are often associated with the transfer of heat. According to the Second law of thermodynamics, nonconservative forces necessarily result in energy transformations within closed systems from ordered to more random conditions as entropy increases.',\n",
              " 'id': '5ad28a57d7d075001a4299b3',\n",
              " 'question': 'What does not change macroscopic closed systems?',\n",
              " 'title': 'Force'}"
            ]
          },
          "metadata": {},
          "execution_count": 9
        }
      ]
    },
    {
      "cell_type": "code",
      "source": [
        "df = pd.DataFrame(train_dataset)"
      ],
      "metadata": {
        "id": "jiuJexOB9HuG",
        "execution": {
          "iopub.status.busy": "2022-03-02T01:03:18.400308Z",
          "iopub.execute_input": "2022-03-02T01:03:18.400812Z",
          "iopub.status.idle": "2022-03-02T01:03:34.725387Z",
          "shell.execute_reply.started": "2022-03-02T01:03:18.400774Z",
          "shell.execute_reply": "2022-03-02T01:03:34.724598Z"
        },
        "trusted": true
      },
      "execution_count": null,
      "outputs": []
    },
    {
      "cell_type": "code",
      "source": [
        "df.tail(10)"
      ],
      "metadata": {
        "id": "_wBrvvfK9RAe",
        "outputId": "56b378b6-c0e5-4ab4-cd18-bdaeb63607be",
        "execution": {
          "iopub.status.busy": "2022-03-02T01:03:34.726638Z",
          "iopub.execute_input": "2022-03-02T01:03:34.726906Z",
          "iopub.status.idle": "2022-03-02T01:03:34.752848Z",
          "shell.execute_reply.started": "2022-03-02T01:03:34.72687Z",
          "shell.execute_reply": "2022-03-02T01:03:34.752066Z"
        },
        "trusted": true,
        "colab": {
          "base_uri": "https://localhost:8080/",
          "height": 581
        }
      },
      "execution_count": null,
      "outputs": [
        {
          "output_type": "execute_result",
          "data": {
            "text/plain": [
              "                              id   title  \\\n",
              "130309  5a7e05ef70df9f001a875425  Matter   \n",
              "130310  5a7e05ef70df9f001a875426  Matter   \n",
              "130311  5a7e05ef70df9f001a875427  Matter   \n",
              "130312  5a7e05ef70df9f001a875428  Matter   \n",
              "130313  5a7e05ef70df9f001a875429  Matter   \n",
              "130314  5a7e070b70df9f001a875439  Matter   \n",
              "130315  5a7e070b70df9f001a87543a  Matter   \n",
              "130316  5a7e070b70df9f001a87543b  Matter   \n",
              "130317  5a7e070b70df9f001a87543c  Matter   \n",
              "130318  5a7e070b70df9f001a87543d  Matter   \n",
              "\n",
              "                                                  context  \\\n",
              "130309  These quarks and leptons interact through four...   \n",
              "130310  These quarks and leptons interact through four...   \n",
              "130311  These quarks and leptons interact through four...   \n",
              "130312  These quarks and leptons interact through four...   \n",
              "130313  These quarks and leptons interact through four...   \n",
              "130314  The term \"matter\" is used throughout physics i...   \n",
              "130315  The term \"matter\" is used throughout physics i...   \n",
              "130316  The term \"matter\" is used throughout physics i...   \n",
              "130317  The term \"matter\" is used throughout physics i...   \n",
              "130318  The term \"matter\" is used throughout physics i...   \n",
              "\n",
              "                                                 question  \\\n",
              "130309             How many quarks and leptons are there?   \n",
              "130310        What model satisfactorily explains gravity?   \n",
              "130311  Interactions between quarks and leptons are th...   \n",
              "130312    Mass and energy can always be compared to what?   \n",
              "130313  What relation explains the carriers of the ele...   \n",
              "130314  Physics has broadly agreed on the definition o...   \n",
              "130315               Who coined the term partonic matter?   \n",
              "130316              What is another name for anti-matter?   \n",
              "130317  Matter usually does not need to be used in con...   \n",
              "130318  What field of study has a variety of unusual c...   \n",
              "\n",
              "                                 answers  \n",
              "130309  {'text': [], 'answer_start': []}  \n",
              "130310  {'text': [], 'answer_start': []}  \n",
              "130311  {'text': [], 'answer_start': []}  \n",
              "130312  {'text': [], 'answer_start': []}  \n",
              "130313  {'text': [], 'answer_start': []}  \n",
              "130314  {'text': [], 'answer_start': []}  \n",
              "130315  {'text': [], 'answer_start': []}  \n",
              "130316  {'text': [], 'answer_start': []}  \n",
              "130317  {'text': [], 'answer_start': []}  \n",
              "130318  {'text': [], 'answer_start': []}  "
            ],
            "text/html": [
              "\n",
              "  <div id=\"df-3e68ee08-3eeb-4a8a-8ef3-818e62494753\">\n",
              "    <div class=\"colab-df-container\">\n",
              "      <div>\n",
              "<style scoped>\n",
              "    .dataframe tbody tr th:only-of-type {\n",
              "        vertical-align: middle;\n",
              "    }\n",
              "\n",
              "    .dataframe tbody tr th {\n",
              "        vertical-align: top;\n",
              "    }\n",
              "\n",
              "    .dataframe thead th {\n",
              "        text-align: right;\n",
              "    }\n",
              "</style>\n",
              "<table border=\"1\" class=\"dataframe\">\n",
              "  <thead>\n",
              "    <tr style=\"text-align: right;\">\n",
              "      <th></th>\n",
              "      <th>id</th>\n",
              "      <th>title</th>\n",
              "      <th>context</th>\n",
              "      <th>question</th>\n",
              "      <th>answers</th>\n",
              "    </tr>\n",
              "  </thead>\n",
              "  <tbody>\n",
              "    <tr>\n",
              "      <th>130309</th>\n",
              "      <td>5a7e05ef70df9f001a875425</td>\n",
              "      <td>Matter</td>\n",
              "      <td>These quarks and leptons interact through four...</td>\n",
              "      <td>How many quarks and leptons are there?</td>\n",
              "      <td>{'text': [], 'answer_start': []}</td>\n",
              "    </tr>\n",
              "    <tr>\n",
              "      <th>130310</th>\n",
              "      <td>5a7e05ef70df9f001a875426</td>\n",
              "      <td>Matter</td>\n",
              "      <td>These quarks and leptons interact through four...</td>\n",
              "      <td>What model satisfactorily explains gravity?</td>\n",
              "      <td>{'text': [], 'answer_start': []}</td>\n",
              "    </tr>\n",
              "    <tr>\n",
              "      <th>130311</th>\n",
              "      <td>5a7e05ef70df9f001a875427</td>\n",
              "      <td>Matter</td>\n",
              "      <td>These quarks and leptons interact through four...</td>\n",
              "      <td>Interactions between quarks and leptons are th...</td>\n",
              "      <td>{'text': [], 'answer_start': []}</td>\n",
              "    </tr>\n",
              "    <tr>\n",
              "      <th>130312</th>\n",
              "      <td>5a7e05ef70df9f001a875428</td>\n",
              "      <td>Matter</td>\n",
              "      <td>These quarks and leptons interact through four...</td>\n",
              "      <td>Mass and energy can always be compared to what?</td>\n",
              "      <td>{'text': [], 'answer_start': []}</td>\n",
              "    </tr>\n",
              "    <tr>\n",
              "      <th>130313</th>\n",
              "      <td>5a7e05ef70df9f001a875429</td>\n",
              "      <td>Matter</td>\n",
              "      <td>These quarks and leptons interact through four...</td>\n",
              "      <td>What relation explains the carriers of the ele...</td>\n",
              "      <td>{'text': [], 'answer_start': []}</td>\n",
              "    </tr>\n",
              "    <tr>\n",
              "      <th>130314</th>\n",
              "      <td>5a7e070b70df9f001a875439</td>\n",
              "      <td>Matter</td>\n",
              "      <td>The term \"matter\" is used throughout physics i...</td>\n",
              "      <td>Physics has broadly agreed on the definition o...</td>\n",
              "      <td>{'text': [], 'answer_start': []}</td>\n",
              "    </tr>\n",
              "    <tr>\n",
              "      <th>130315</th>\n",
              "      <td>5a7e070b70df9f001a87543a</td>\n",
              "      <td>Matter</td>\n",
              "      <td>The term \"matter\" is used throughout physics i...</td>\n",
              "      <td>Who coined the term partonic matter?</td>\n",
              "      <td>{'text': [], 'answer_start': []}</td>\n",
              "    </tr>\n",
              "    <tr>\n",
              "      <th>130316</th>\n",
              "      <td>5a7e070b70df9f001a87543b</td>\n",
              "      <td>Matter</td>\n",
              "      <td>The term \"matter\" is used throughout physics i...</td>\n",
              "      <td>What is another name for anti-matter?</td>\n",
              "      <td>{'text': [], 'answer_start': []}</td>\n",
              "    </tr>\n",
              "    <tr>\n",
              "      <th>130317</th>\n",
              "      <td>5a7e070b70df9f001a87543c</td>\n",
              "      <td>Matter</td>\n",
              "      <td>The term \"matter\" is used throughout physics i...</td>\n",
              "      <td>Matter usually does not need to be used in con...</td>\n",
              "      <td>{'text': [], 'answer_start': []}</td>\n",
              "    </tr>\n",
              "    <tr>\n",
              "      <th>130318</th>\n",
              "      <td>5a7e070b70df9f001a87543d</td>\n",
              "      <td>Matter</td>\n",
              "      <td>The term \"matter\" is used throughout physics i...</td>\n",
              "      <td>What field of study has a variety of unusual c...</td>\n",
              "      <td>{'text': [], 'answer_start': []}</td>\n",
              "    </tr>\n",
              "  </tbody>\n",
              "</table>\n",
              "</div>\n",
              "      <button class=\"colab-df-convert\" onclick=\"convertToInteractive('df-3e68ee08-3eeb-4a8a-8ef3-818e62494753')\"\n",
              "              title=\"Convert this dataframe to an interactive table.\"\n",
              "              style=\"display:none;\">\n",
              "        \n",
              "  <svg xmlns=\"http://www.w3.org/2000/svg\" height=\"24px\"viewBox=\"0 0 24 24\"\n",
              "       width=\"24px\">\n",
              "    <path d=\"M0 0h24v24H0V0z\" fill=\"none\"/>\n",
              "    <path d=\"M18.56 5.44l.94 2.06.94-2.06 2.06-.94-2.06-.94-.94-2.06-.94 2.06-2.06.94zm-11 1L8.5 8.5l.94-2.06 2.06-.94-2.06-.94L8.5 2.5l-.94 2.06-2.06.94zm10 10l.94 2.06.94-2.06 2.06-.94-2.06-.94-.94-2.06-.94 2.06-2.06.94z\"/><path d=\"M17.41 7.96l-1.37-1.37c-.4-.4-.92-.59-1.43-.59-.52 0-1.04.2-1.43.59L10.3 9.45l-7.72 7.72c-.78.78-.78 2.05 0 2.83L4 21.41c.39.39.9.59 1.41.59.51 0 1.02-.2 1.41-.59l7.78-7.78 2.81-2.81c.8-.78.8-2.07 0-2.86zM5.41 20L4 18.59l7.72-7.72 1.47 1.35L5.41 20z\"/>\n",
              "  </svg>\n",
              "      </button>\n",
              "      \n",
              "  <style>\n",
              "    .colab-df-container {\n",
              "      display:flex;\n",
              "      flex-wrap:wrap;\n",
              "      gap: 12px;\n",
              "    }\n",
              "\n",
              "    .colab-df-convert {\n",
              "      background-color: #E8F0FE;\n",
              "      border: none;\n",
              "      border-radius: 50%;\n",
              "      cursor: pointer;\n",
              "      display: none;\n",
              "      fill: #1967D2;\n",
              "      height: 32px;\n",
              "      padding: 0 0 0 0;\n",
              "      width: 32px;\n",
              "    }\n",
              "\n",
              "    .colab-df-convert:hover {\n",
              "      background-color: #E2EBFA;\n",
              "      box-shadow: 0px 1px 2px rgba(60, 64, 67, 0.3), 0px 1px 3px 1px rgba(60, 64, 67, 0.15);\n",
              "      fill: #174EA6;\n",
              "    }\n",
              "\n",
              "    [theme=dark] .colab-df-convert {\n",
              "      background-color: #3B4455;\n",
              "      fill: #D2E3FC;\n",
              "    }\n",
              "\n",
              "    [theme=dark] .colab-df-convert:hover {\n",
              "      background-color: #434B5C;\n",
              "      box-shadow: 0px 1px 3px 1px rgba(0, 0, 0, 0.15);\n",
              "      filter: drop-shadow(0px 1px 2px rgba(0, 0, 0, 0.3));\n",
              "      fill: #FFFFFF;\n",
              "    }\n",
              "  </style>\n",
              "\n",
              "      <script>\n",
              "        const buttonEl =\n",
              "          document.querySelector('#df-3e68ee08-3eeb-4a8a-8ef3-818e62494753 button.colab-df-convert');\n",
              "        buttonEl.style.display =\n",
              "          google.colab.kernel.accessAllowed ? 'block' : 'none';\n",
              "\n",
              "        async function convertToInteractive(key) {\n",
              "          const element = document.querySelector('#df-3e68ee08-3eeb-4a8a-8ef3-818e62494753');\n",
              "          const dataTable =\n",
              "            await google.colab.kernel.invokeFunction('convertToInteractive',\n",
              "                                                     [key], {});\n",
              "          if (!dataTable) return;\n",
              "\n",
              "          const docLinkHtml = 'Like what you see? Visit the ' +\n",
              "            '<a target=\"_blank\" href=https://colab.research.google.com/notebooks/data_table.ipynb>data table notebook</a>'\n",
              "            + ' to learn more about interactive tables.';\n",
              "          element.innerHTML = '';\n",
              "          dataTable['output_type'] = 'display_data';\n",
              "          await google.colab.output.renderOutput(dataTable, element);\n",
              "          const docLink = document.createElement('div');\n",
              "          docLink.innerHTML = docLinkHtml;\n",
              "          element.appendChild(docLink);\n",
              "        }\n",
              "      </script>\n",
              "    </div>\n",
              "  </div>\n",
              "  "
            ]
          },
          "metadata": {},
          "execution_count": 11
        }
      ]
    },
    {
      "cell_type": "markdown",
      "source": [
        "# Preprocessing the dataset"
      ],
      "metadata": {
        "id": "DauZRzlKhglZ"
      }
    },
    {
      "cell_type": "code",
      "source": [
        "train_dataset[1]"
      ],
      "metadata": {
        "execution": {
          "iopub.status.busy": "2022-03-02T18:02:58.870466Z",
          "iopub.execute_input": "2022-03-02T18:02:58.871033Z",
          "iopub.status.idle": "2022-03-02T18:02:58.878123Z",
          "shell.execute_reply.started": "2022-03-02T18:02:58.870994Z",
          "shell.execute_reply": "2022-03-02T18:02:58.877307Z"
        },
        "trusted": true,
        "colab": {
          "base_uri": "https://localhost:8080/"
        },
        "id": "huXJOvg9wYkR",
        "outputId": "a4561777-fedc-450d-cf95-d2cc402c8917"
      },
      "execution_count": null,
      "outputs": [
        {
          "output_type": "execute_result",
          "data": {
            "text/plain": [
              "{'answers': {'answer_start': [207], 'text': ['singing and dancing']},\n",
              " 'context': 'Beyoncé Giselle Knowles-Carter (/biːˈjɒnseɪ/ bee-YON-say) (born September 4, 1981) is an American singer, songwriter, record producer and actress. Born and raised in Houston, Texas, she performed in various singing and dancing competitions as a child, and rose to fame in the late 1990s as lead singer of R&B girl-group Destiny\\'s Child. Managed by her father, Mathew Knowles, the group became one of the world\\'s best-selling girl groups of all time. Their hiatus saw the release of Beyoncé\\'s debut album, Dangerously in Love (2003), which established her as a solo artist worldwide, earned five Grammy Awards and featured the Billboard Hot 100 number-one singles \"Crazy in Love\" and \"Baby Boy\".',\n",
              " 'id': '56be85543aeaaa14008c9065',\n",
              " 'question': 'What areas did Beyonce compete in when she was growing up?',\n",
              " 'title': 'Beyoncé'}"
            ]
          },
          "metadata": {},
          "execution_count": 12
        }
      ]
    },
    {
      "cell_type": "markdown",
      "source": [
        "For the training dataset, I noticed that for each question there is only one answer, so there is no need to keep the values of the answers dictionary in lists. For example: `'answers': {'text': ['singing and dancing'], 'answer_start': [207]}}` can be reformated to `'answers': {'text': 'singing and dancing', 'answer_start': 207}}`. As for questions that are inanswerable (they look like this:`'answers': {'text': [], 'answer_start': []}}` we can just have `'answers': {'text': \"\", 'answer_start': 0}}`."
      ],
      "metadata": {
        "id": "PadL9twOwYkR"
      }
    },
    {
      "cell_type": "code",
      "source": [
        "def find_end(example):\n",
        "\n",
        "    if (len(example['answers']['text']) != 0):\n",
        "        context = example['context']\n",
        "        text = example['answers']['text'][0]\n",
        "        start_idx = example['answers']['answer_start'][0]\n",
        "\n",
        "        end_idx = start_idx + len(text)\n",
        "        \n",
        "        temp = example['answers'] # to change the value\n",
        "        temp['answer_end']=end_idx \n",
        "        temp['answer_start'] = start_idx # [num]->num\n",
        "        temp['text'] = text # ['text']->text\n",
        "    \n",
        "    else:\n",
        "        temp = example['answers']\n",
        "        temp['answer_end'] = 0 # []->0\n",
        "        temp['answer_start'] = 0 # []->0\n",
        "        temp['text'] = \"\" # []->\"\"\n",
        "        \n",
        "    return example\n",
        "\n",
        "train_dataset = train_dataset.map(find_end)"
      ],
      "metadata": {
        "execution": {
          "iopub.status.busy": "2022-03-03T12:24:47.898592Z",
          "iopub.execute_input": "2022-03-03T12:24:47.898849Z",
          "iopub.status.idle": "2022-03-03T12:24:47.971240Z",
          "shell.execute_reply.started": "2022-03-03T12:24:47.898814Z",
          "shell.execute_reply": "2022-03-03T12:24:47.970490Z"
        },
        "trusted": true,
        "colab": {
          "base_uri": "https://localhost:8080/",
          "height": 49,
          "referenced_widgets": [
            "cf00f0a8817044d889011e787c815c25",
            "0af935dc43214daf80fc234c3df9057d",
            "7e5a8ecbbea040b98a5ce9b19093a198",
            "d66e418f77644cd0b8b9a11241ed4b36",
            "1d71ec7f3e07483a8f79d4bb36038edd",
            "3960c7924f6d46718bbd6c4580313fc1",
            "194272b0b6544ba5b248afb23d65838d",
            "becea06447a94fe1b1e767d3ac1f6ff9",
            "ef1b71100c2b4fe982c9da78a1031557",
            "f3ba9ecd2e494fd4ae98e34e5517a8df",
            "c97c98f1310a49ddba4039e574739740"
          ]
        },
        "id": "EltHOea8wYkR",
        "outputId": "b595d323-ac74-4a84-dfd2-bfacc4013761"
      },
      "execution_count": null,
      "outputs": [
        {
          "output_type": "display_data",
          "data": {
            "text/plain": [
              "0ex [00:00, ?ex/s]"
            ],
            "application/vnd.jupyter.widget-view+json": {
              "version_major": 2,
              "version_minor": 0,
              "model_id": "cf00f0a8817044d889011e787c815c25"
            }
          },
          "metadata": {}
        }
      ]
    },
    {
      "cell_type": "markdown",
      "source": [
        "Check some examples:"
      ],
      "metadata": {
        "id": "GWeeURqdwYkR"
      }
    },
    {
      "cell_type": "code",
      "source": [
        "train_dataset[1]"
      ],
      "metadata": {
        "execution": {
          "iopub.status.busy": "2022-03-02T18:03:23.503449Z",
          "iopub.execute_input": "2022-03-02T18:03:23.504016Z",
          "iopub.status.idle": "2022-03-02T18:03:23.512228Z",
          "shell.execute_reply.started": "2022-03-02T18:03:23.503977Z",
          "shell.execute_reply": "2022-03-02T18:03:23.511444Z"
        },
        "trusted": true,
        "colab": {
          "base_uri": "https://localhost:8080/"
        },
        "id": "r2Y_bTeSwYkR",
        "outputId": "2b6a4bb2-bacd-48cb-a332-67c80068de88"
      },
      "execution_count": null,
      "outputs": [
        {
          "output_type": "execute_result",
          "data": {
            "text/plain": [
              "{'answers': {'answer_end': 226,\n",
              "  'answer_start': 207,\n",
              "  'text': 'singing and dancing'},\n",
              " 'context': 'Beyoncé Giselle Knowles-Carter (/biːˈjɒnseɪ/ bee-YON-say) (born September 4, 1981) is an American singer, songwriter, record producer and actress. Born and raised in Houston, Texas, she performed in various singing and dancing competitions as a child, and rose to fame in the late 1990s as lead singer of R&B girl-group Destiny\\'s Child. Managed by her father, Mathew Knowles, the group became one of the world\\'s best-selling girl groups of all time. Their hiatus saw the release of Beyoncé\\'s debut album, Dangerously in Love (2003), which established her as a solo artist worldwide, earned five Grammy Awards and featured the Billboard Hot 100 number-one singles \"Crazy in Love\" and \"Baby Boy\".',\n",
              " 'id': '56be85543aeaaa14008c9065',\n",
              " 'question': 'What areas did Beyonce compete in when she was growing up?',\n",
              " 'title': 'Beyoncé'}"
            ]
          },
          "metadata": {},
          "execution_count": 14
        }
      ]
    },
    {
      "cell_type": "code",
      "source": [
        "train_dataset[10]"
      ],
      "metadata": {
        "execution": {
          "iopub.status.busy": "2022-03-02T18:03:27.094012Z",
          "iopub.execute_input": "2022-03-02T18:03:27.094902Z",
          "iopub.status.idle": "2022-03-02T18:03:27.101872Z",
          "shell.execute_reply.started": "2022-03-02T18:03:27.09485Z",
          "shell.execute_reply": "2022-03-02T18:03:27.101073Z"
        },
        "trusted": true,
        "colab": {
          "base_uri": "https://localhost:8080/"
        },
        "id": "syVkhDaQwYkS",
        "outputId": "a6b0fd28-0de0-4c40-a606-6422a377e2a7"
      },
      "execution_count": null,
      "outputs": [
        {
          "output_type": "execute_result",
          "data": {
            "text/plain": [
              "{'answers': {'answer_end': 524,\n",
              "  'answer_start': 505,\n",
              "  'text': 'Dangerously in Love'},\n",
              " 'context': 'Beyoncé Giselle Knowles-Carter (/biːˈjɒnseɪ/ bee-YON-say) (born September 4, 1981) is an American singer, songwriter, record producer and actress. Born and raised in Houston, Texas, she performed in various singing and dancing competitions as a child, and rose to fame in the late 1990s as lead singer of R&B girl-group Destiny\\'s Child. Managed by her father, Mathew Knowles, the group became one of the world\\'s best-selling girl groups of all time. Their hiatus saw the release of Beyoncé\\'s debut album, Dangerously in Love (2003), which established her as a solo artist worldwide, earned five Grammy Awards and featured the Billboard Hot 100 number-one singles \"Crazy in Love\" and \"Baby Boy\".',\n",
              " 'id': '56d43c5f2ccc5a1400d830ab',\n",
              " 'question': 'What was the first album Beyoncé released as a solo artist?',\n",
              " 'title': 'Beyoncé'}"
            ]
          },
          "metadata": {},
          "execution_count": 15
        }
      ]
    },
    {
      "cell_type": "markdown",
      "source": [
        "Example with no answer"
      ],
      "metadata": {
        "id": "K7nLfufSwYkS"
      }
    },
    {
      "cell_type": "code",
      "source": [
        "train_dataset[-10]"
      ],
      "metadata": {
        "execution": {
          "iopub.status.busy": "2022-03-02T18:03:31.201404Z",
          "iopub.execute_input": "2022-03-02T18:03:31.201847Z",
          "iopub.status.idle": "2022-03-02T18:03:31.208265Z",
          "shell.execute_reply.started": "2022-03-02T18:03:31.201808Z",
          "shell.execute_reply": "2022-03-02T18:03:31.207297Z"
        },
        "trusted": true,
        "colab": {
          "base_uri": "https://localhost:8080/"
        },
        "id": "DRzCbKA-wYkS",
        "outputId": "7130be42-3325-4754-962d-d6c57f0edea7"
      },
      "execution_count": null,
      "outputs": [
        {
          "output_type": "execute_result",
          "data": {
            "text/plain": [
              "{'answers': {'answer_end': 0, 'answer_start': 0, 'text': ''},\n",
              " 'context': 'These quarks and leptons interact through four fundamental forces: gravity, electromagnetism, weak interactions, and strong interactions. The Standard Model of particle physics is currently the best explanation for all of physics, but despite decades of efforts, gravity cannot yet be accounted for at the quantum level; it is only described by classical physics (see quantum gravity and graviton). Interactions between quarks and leptons are the result of an exchange of force-carrying particles (such as photons) between quarks and leptons. The force-carrying particles are not themselves building blocks. As one consequence, mass and energy (which cannot be created or destroyed) cannot always be related to matter (which can be created out of non-matter particles such as photons, or even out of pure energy, such as kinetic energy). Force carriers are usually not considered matter: the carriers of the electric force (photons) possess energy (see Planck relation) and the carriers of the weak force (W and Z bosons) are massive, but neither are considered matter either. However, while these particles are not considered matter, they do contribute to the total mass of atoms, subatomic particles, and all systems that contain them.',\n",
              " 'id': '5a7e05ef70df9f001a875425',\n",
              " 'question': 'How many quarks and leptons are there?',\n",
              " 'title': 'Matter'}"
            ]
          },
          "metadata": {},
          "execution_count": 16
        }
      ]
    },
    {
      "cell_type": "markdown",
      "source": [
        "Tokenize train dataset and find end and start tokens. The sequence lenght will be 512, the maximum one for bert."
      ],
      "metadata": {
        "id": "txoXbyqZwYkS"
      }
    },
    {
      "cell_type": "code",
      "source": [
        "from transformers import BertTokenizerFast\n",
        "tokenizer = BertTokenizerFast.from_pretrained('bert-base-uncased')\n",
        "\n",
        "tokenized_train = tokenizer(train_dataset['context'], train_dataset['question'], truncation=True, padding=True)"
      ],
      "metadata": {
        "execution": {
          "iopub.status.busy": "2022-03-03T12:24:47.972852Z",
          "iopub.execute_input": "2022-03-03T12:24:47.973167Z",
          "iopub.status.idle": "2022-03-03T12:26:01.205747Z",
          "shell.execute_reply.started": "2022-03-03T12:24:47.973129Z",
          "shell.execute_reply": "2022-03-03T12:26:01.204931Z"
        },
        "trusted": true,
        "id": "M7hNs_uSwYkS"
      },
      "execution_count": null,
      "outputs": []
    },
    {
      "cell_type": "code",
      "source": [
        "def find_token_indexes(tokenized, dataset):\n",
        "    start_token_list = []\n",
        "    end_token_list = []\n",
        "    answers = dataset['answers']\n",
        "    for i in range(len(answers)):\n",
        "        if (answers[i]['text'] != ''):\n",
        "            start_token = tokenized.char_to_token(i, answers[i]['answer_start'])\n",
        "            end_token = tokenized.char_to_token(i, answers[i]['answer_end'] - 1)\n",
        "            \n",
        "            # if start token is None, the answer passage has been truncated\n",
        "            if start_token is None:\n",
        "                start_token = tokenizer.model_max_length\n",
        "            if end_token is None:\n",
        "                end_token = tokenizer.model_max_length\n",
        "        else:\n",
        "            start_token = 0\n",
        "            end_token = 0\n",
        "            \n",
        "        start_token_list.append(start_token)\n",
        "        end_token_list.append(end_token)\n",
        "\n",
        "    return start_token_list, start_token_list\n",
        "    \n",
        "s, e = find_token_indexes(tokenized_train, train_dataset)\n",
        "train_dataset = train_dataset.add_column(\"start_position\", s)\n",
        "train_dataset = train_dataset.add_column(\"end_position\", e)"
      ],
      "metadata": {
        "execution": {
          "iopub.status.busy": "2022-03-03T12:26:01.207151Z",
          "iopub.execute_input": "2022-03-03T12:26:01.207423Z",
          "iopub.status.idle": "2022-03-03T12:26:03.272720Z",
          "shell.execute_reply.started": "2022-03-03T12:26:01.207379Z",
          "shell.execute_reply": "2022-03-03T12:26:03.271968Z"
        },
        "trusted": true,
        "id": "Hi-wpHi8wYkS"
      },
      "execution_count": null,
      "outputs": []
    },
    {
      "cell_type": "code",
      "source": [
        "train_dataset"
      ],
      "metadata": {
        "execution": {
          "iopub.status.busy": "2022-03-03T12:26:03.274962Z",
          "iopub.execute_input": "2022-03-03T12:26:03.275187Z",
          "iopub.status.idle": "2022-03-03T12:26:03.281711Z",
          "shell.execute_reply.started": "2022-03-03T12:26:03.275161Z",
          "shell.execute_reply": "2022-03-03T12:26:03.280902Z"
        },
        "trusted": true,
        "id": "vWE2ASaewYkS",
        "outputId": "51e31095-3724-4c89-aeb4-47cbe4d23e8f"
      },
      "execution_count": null,
      "outputs": [
        {
          "execution_count": 9,
          "output_type": "execute_result",
          "data": {
            "text/plain": "Dataset({\n    features: ['id', 'title', 'context', 'question', 'answers', 'start_position', 'end_position'],\n    num_rows: 130319\n})"
          },
          "metadata": {}
        }
      ]
    },
    {
      "cell_type": "code",
      "source": [
        "batch_size = 8\n",
        "train_data = TensorDataset(torch.tensor(tokenized_train['input_ids'], dtype=torch.int64), \n",
        "                           torch.tensor(tokenized_train['token_type_ids'], dtype=torch.int64), \n",
        "                           torch.tensor(tokenized_train['attention_mask'], dtype=torch.float), \n",
        "                           torch.tensor(train_dataset['start_position'], dtype=torch.int64), \n",
        "                           torch.tensor(train_dataset['start_position'], dtype=torch.int64))\n",
        "\n",
        "train_sampler = RandomSampler(train_data)\n",
        "train_dataloader = DataLoader(train_data, sampler=train_sampler, batch_size=batch_size)"
      ],
      "metadata": {
        "id": "0e4Pv5Kshgla",
        "execution": {
          "iopub.status.busy": "2022-03-03T12:26:03.282929Z",
          "iopub.execute_input": "2022-03-03T12:26:03.283341Z",
          "iopub.status.idle": "2022-03-03T12:26:10.395319Z",
          "shell.execute_reply.started": "2022-03-03T12:26:03.283304Z",
          "shell.execute_reply": "2022-03-03T12:26:10.394579Z"
        },
        "trusted": true
      },
      "execution_count": null,
      "outputs": []
    },
    {
      "cell_type": "markdown",
      "source": [
        "Validation dataset does not need that much preprocessing. I pass to the dataloader only the input_ids, token_type_ids and attention masks, that will be passed to bert model in batches. I use a Sequential sampler to keep the indexing same as the validation dataset. We will need the offsets mapping to construct the sentence from the predicted start and end tokens and compare it with the actual answers."
      ],
      "metadata": {
        "id": "pKad8ThCwYkT"
      }
    },
    {
      "cell_type": "code",
      "source": [
        "tokenized_validation = tokenizer(validation_dataset['context'], validation_dataset['question'], truncation=True, padding=True, return_offsets_mapping=True)"
      ],
      "metadata": {
        "execution": {
          "iopub.status.busy": "2022-03-03T19:03:16.976065Z",
          "iopub.execute_input": "2022-03-03T19:03:16.976826Z",
          "iopub.status.idle": "2022-03-03T19:03:25.076495Z",
          "shell.execute_reply.started": "2022-03-03T19:03:16.976785Z",
          "shell.execute_reply": "2022-03-03T19:03:25.074541Z"
        },
        "trusted": true,
        "id": "rmWyj58QwYkT"
      },
      "execution_count": null,
      "outputs": []
    },
    {
      "cell_type": "code",
      "source": [
        "batch_size = 8\n",
        "val_data = TensorDataset(torch.tensor(tokenized_validation['input_ids'], dtype=torch.int64), \n",
        "                        torch.tensor(tokenized_validation['token_type_ids'], dtype=torch.int64), \n",
        "                        torch.tensor(tokenized_validation['attention_mask'], dtype=torch.float))\n",
        "val_sampler = SequentialSampler(val_data)\n",
        "val_dataloader = DataLoader(val_data, sampler=val_sampler, batch_size=batch_size)"
      ],
      "metadata": {
        "execution": {
          "iopub.status.busy": "2022-03-03T19:03:25.080132Z",
          "iopub.execute_input": "2022-03-03T19:03:25.080391Z",
          "iopub.status.idle": "2022-03-03T19:03:25.631737Z",
          "shell.execute_reply.started": "2022-03-03T19:03:25.080358Z",
          "shell.execute_reply": "2022-03-03T19:03:25.630970Z"
        },
        "trusted": true,
        "id": "kxMPkF2SwYkT"
      },
      "execution_count": null,
      "outputs": []
    },
    {
      "cell_type": "markdown",
      "source": [
        "# Fine-Tune"
      ],
      "metadata": {
        "id": "MReVWUdjhgla"
      }
    },
    {
      "cell_type": "markdown",
      "source": [
        "Let's load the bert model for question answering. This model gives as outputs the start and end logits, as described in the BERT paper, before the softmax."
      ],
      "metadata": {
        "id": "o2jwU--HwYkQ"
      }
    },
    {
      "cell_type": "code",
      "source": [
        "model = BertForQuestionAnswering.from_pretrained('bert-base-uncased')"
      ],
      "metadata": {
        "id": "nIUEr1Rq-RU6",
        "outputId": "e85db52c-15b1-4ee5-af17-762dd754df7a",
        "execution": {
          "iopub.status.busy": "2022-03-03T12:24:35.886216Z",
          "iopub.execute_input": "2022-03-03T12:24:35.886487Z",
          "iopub.status.idle": "2022-03-03T12:24:47.897137Z",
          "shell.execute_reply.started": "2022-03-03T12:24:35.886449Z",
          "shell.execute_reply": "2022-03-03T12:24:47.896387Z"
        },
        "trusted": true
      },
      "execution_count": null,
      "outputs": [
        {
          "name": "stderr",
          "text": "Some weights of the model checkpoint at bert-base-uncased were not used when initializing BertForQuestionAnswering: ['cls.predictions.transform.LayerNorm.bias', 'cls.seq_relationship.bias', 'cls.predictions.transform.dense.weight', 'cls.predictions.bias', 'cls.seq_relationship.weight', 'cls.predictions.decoder.weight', 'cls.predictions.transform.LayerNorm.weight', 'cls.predictions.transform.dense.bias']\n- This IS expected if you are initializing BertForQuestionAnswering from the checkpoint of a model trained on another task or with another architecture (e.g. initializing a BertForSequenceClassification model from a BertForPreTraining model).\n- This IS NOT expected if you are initializing BertForQuestionAnswering from the checkpoint of a model that you expect to be exactly identical (initializing a BertForSequenceClassification model from a BertForSequenceClassification model).\nSome weights of BertForQuestionAnswering were not initialized from the model checkpoint at bert-base-uncased and are newly initialized: ['qa_outputs.bias', 'qa_outputs.weight']\nYou should probably TRAIN this model on a down-stream task to be able to use it for predictions and inference.\n",
          "output_type": "stream"
        }
      ]
    },
    {
      "cell_type": "markdown",
      "source": [
        "The training for each epoch took aprox. 2 hours so I couldn't try many epochs and do many runs when using the whole dataset."
      ],
      "metadata": {
        "id": "2e-1tcGBwYkT"
      }
    },
    {
      "cell_type": "markdown",
      "source": [
        "For optimizer, I used AdamW (Adam with weight decay) which is the one that was used in BERT during pre-training. "
      ],
      "metadata": {
        "id": "bPdDdMBRwYkT"
      }
    },
    {
      "cell_type": "code",
      "source": [
        "model = BertForQuestionAnswering.from_pretrained('bert-base-uncased')\n",
        "epochs = 3\n",
        "model.to(device)\n",
        "optimizer = optim.AdamW(model.parameters(), lr=1e-5)"
      ],
      "metadata": {
        "execution": {
          "iopub.status.busy": "2022-03-03T12:26:10.396629Z",
          "iopub.execute_input": "2022-03-03T12:26:10.396897Z",
          "iopub.status.idle": "2022-03-03T12:26:17.557770Z",
          "shell.execute_reply.started": "2022-03-03T12:26:10.396860Z",
          "shell.execute_reply": "2022-03-03T12:26:17.557023Z"
        },
        "trusted": true,
        "id": "JMsbG9k9wYkU",
        "outputId": "ee1116bf-ba91-42e2-fec4-efae13855501"
      },
      "execution_count": null,
      "outputs": [
        {
          "name": "stderr",
          "text": "Some weights of the model checkpoint at bert-base-uncased were not used when initializing BertForQuestionAnswering: ['cls.predictions.transform.LayerNorm.bias', 'cls.seq_relationship.bias', 'cls.predictions.transform.dense.weight', 'cls.predictions.bias', 'cls.seq_relationship.weight', 'cls.predictions.decoder.weight', 'cls.predictions.transform.LayerNorm.weight', 'cls.predictions.transform.dense.bias']\n- This IS expected if you are initializing BertForQuestionAnswering from the checkpoint of a model trained on another task or with another architecture (e.g. initializing a BertForSequenceClassification model from a BertForPreTraining model).\n- This IS NOT expected if you are initializing BertForQuestionAnswering from the checkpoint of a model that you expect to be exactly identical (initializing a BertForSequenceClassification model from a BertForSequenceClassification model).\nSome weights of BertForQuestionAnswering were not initialized from the model checkpoint at bert-base-uncased and are newly initialized: ['qa_outputs.bias', 'qa_outputs.weight']\nYou should probably TRAIN this model on a down-stream task to be able to use it for predictions and inference.\n",
          "output_type": "stream"
        }
      ]
    },
    {
      "cell_type": "code",
      "source": [
        "from tqdm import tqdm\n",
        "\n",
        "for epoch in range(epochs):\n",
        "    epoch_loss = []\n",
        "    validation_loss = []\n",
        "    \n",
        "    total_loss = 0\n",
        "    model.train()\n",
        "\n",
        "    count=-1\n",
        "    progress_bar = tqdm(train_dataloader, leave=True, position=0)\n",
        "    progress_bar.set_description(f\"Epoch {epoch+1}\")\n",
        "    for batch in progress_bar:\n",
        "        count+=1\n",
        "        input_ids, segment_ids, mask, start, end  = tuple(t.to(device) for t in batch)\n",
        "\n",
        "        model.zero_grad()\n",
        "        loss, start_logits, end_logits = model(input_ids = input_ids, \n",
        "                                                token_type_ids = segment_ids, \n",
        "                                                attention_mask = mask, \n",
        "                                                start_positions = start, \n",
        "                                                end_positions = end,\n",
        "                                                return_dict = False)           \n",
        "\n",
        "        total_loss += loss.item()\n",
        "        loss.backward()\n",
        "        torch.nn.utils.clip_grad_norm_(model.parameters(), 1.0)\n",
        "        optimizer.step()\n",
        "        \n",
        "        if (count % 20 == 0 and count != 0):\n",
        "            avg = total_loss/count\n",
        "            progress_bar.set_postfix(Loss=avg)\n",
        "            \n",
        "    torch.save(model.state_dict(), \"./bert2_\" + str(epoch) + \".h5\") # save for later use\n",
        "    avg_train_loss = total_loss / len(train_dataloader)\n",
        "    epoch_loss.append(avg_train_loss)\n",
        "    print(f\"Epoch {epoch} Loss: {avg_train_loss}\\n\")"
      ],
      "metadata": {
        "execution": {
          "iopub.status.busy": "2022-03-03T12:35:09.050371Z",
          "iopub.execute_input": "2022-03-03T12:35:09.050689Z",
          "iopub.status.idle": "2022-03-03T18:50:28.938947Z",
          "shell.execute_reply.started": "2022-03-03T12:35:09.050653Z",
          "shell.execute_reply": "2022-03-03T18:50:28.938096Z"
        },
        "trusted": true,
        "id": "UODH-qIDwYkU",
        "outputId": "669b4e3e-026e-4fbe-8755-aae032dea206"
      },
      "execution_count": null,
      "outputs": [
        {
          "name": "stderr",
          "text": "Epoch 1: 100%|██████████| 16290/16290 [2:05:11<00:00,  2.17it/s, Loss=1.41] \n",
          "output_type": "stream"
        },
        {
          "name": "stdout",
          "text": "Epoch 0 Loss: 1.4090361924827135\n\n",
          "output_type": "stream"
        },
        {
          "name": "stderr",
          "text": "Epoch 2: 100%|██████████| 16290/16290 [2:05:08<00:00,  2.17it/s, Loss=0.877] \n",
          "output_type": "stream"
        },
        {
          "name": "stdout",
          "text": "Epoch 1 Loss: 0.8765695926311962\n\n",
          "output_type": "stream"
        },
        {
          "name": "stderr",
          "text": "Epoch 3: 100%|██████████| 16290/16290 [2:04:56<00:00,  2.17it/s, Loss=0.634] \n",
          "output_type": "stream"
        },
        {
          "name": "stdout",
          "text": "Epoch 2 Loss: 0.6342329508682142\n\n",
          "output_type": "stream"
        }
      ]
    },
    {
      "cell_type": "markdown",
      "source": [
        "# EVALUATION"
      ],
      "metadata": {
        "id": "do-qX2pEgCMU"
      }
    },
    {
      "cell_type": "code",
      "source": [
        "from tqdm import tqdm\n",
        "# model.load_state_dict(torch.load(\"../input/bert-weights/bert2_2.h5\"))\n",
        "\n",
        "threshold = 1.0\n",
        "epoch_i = 0\n",
        "correct = 0 \n",
        "pred_dict = {}\n",
        "na_prob_dict = {}\n",
        "\n",
        "model.eval()\n",
        "correct = 0\n",
        "batch_val_losses = []\n",
        "row = 0\n",
        "for test_batch in tqdm(val_dataloader):\n",
        "    input_ids, segment_ids, masks = tuple(t.to(device) for t in test_batch)\n",
        "\n",
        "    with torch.no_grad():\n",
        "        # prediction logits\n",
        "        start_logits, end_logits = model(input_ids=input_ids,\n",
        "                                        token_type_ids=segment_ids,\n",
        "                                        attention_mask=masks,\n",
        "                                        return_dict=False)\n",
        "\n",
        "    # to cpu\n",
        "    start_logits = start_logits.detach().cpu()\n",
        "    end_logits = end_logits.detach().cpu()\n",
        "\n",
        "    # for every sequence in batch \n",
        "    for bidx in range(len(start_logits)):\n",
        "        # apply softmax to logits to get scores\n",
        "        start_scores = np.array(F.softmax(start_logits[bidx], dim = 0))\n",
        "        end_scores = np.array(F.softmax(end_logits[bidx], dim = 0))\n",
        "\n",
        "        # find max for start<=end\n",
        "        size = len(start_scores)\n",
        "        scores = np.zeros((size, size))\n",
        "\n",
        "        for j in range(size):\n",
        "            for i in range(j+1): # include j\n",
        "                scores[i,j] = start_scores[i] + end_scores[j]\n",
        "\n",
        "        # find best i and j\n",
        "        start_pred, end_pred = unravel_index(scores.argmax(), scores.shape)\n",
        "        answer_pred = \"\"\n",
        "        if (scores[start_pred, end_pred] > scores[0,0]+threshold):\n",
        "\n",
        "            offsets = tokenized_validation.offset_mapping[row]\n",
        "            pred_char_start = offsets[start_pred][0]\n",
        "\n",
        "            if end_pred < len(offsets):\n",
        "                pred_char_end = offsets[end_pred][1]\n",
        "                answer_pred = validation_dataset[row]['context'][pred_char_start:pred_char_end]\n",
        "            else:\n",
        "                answer_pred = validation_dataset[row]['context'][pred_char_start:]\n",
        "\n",
        "            if answer_pred in validation_dataset[row]['answers']['text']:\n",
        "                correct += 1\n",
        "\n",
        "        else:\n",
        "            if (len(validation_dataset[row]['answers']['text']) ==0):\n",
        "                correct += 1    \n",
        "\n",
        "        pred_dict[validation_dataset[row]['id']] = answer_pred\n",
        "        na_prob_dict[validation_dataset[row]['id']] = scores[0,0]\n",
        "\n",
        "        row+=1\n",
        "\n",
        "\n",
        "accuracy = correct/validation_dataset.num_rows\n",
        "print(\"accuracy is: \", accuracy)"
      ],
      "metadata": {
        "outputId": "bcac5809-99fe-4cae-dbae-ea6cce76a1a7",
        "execution": {
          "iopub.status.busy": "2022-03-02T18:34:34.901532Z",
          "iopub.execute_input": "2022-03-02T18:34:34.902053Z",
          "iopub.status.idle": "2022-03-02T19:03:34.894775Z",
          "shell.execute_reply.started": "2022-03-02T18:34:34.902009Z",
          "shell.execute_reply": "2022-03-02T19:03:34.894062Z"
        },
        "trusted": true,
        "id": "XcNYA3Uey3Fp"
      },
      "execution_count": null,
      "outputs": [
        {
          "name": "stderr",
          "text": "100%|██████████| 1485/1485 [28:54<00:00,  1.17s/it]",
          "output_type": "stream"
        },
        {
          "name": "stdout",
          "text": "accuracy is:  0.6711025014739325\n",
          "output_type": "stream"
        },
        {
          "name": "stderr",
          "text": "\n",
          "output_type": "stream"
        }
      ]
    },
    {
      "cell_type": "markdown",
      "source": [
        "Save prediction dictionary and no answer probability dictionary as .json"
      ],
      "metadata": {
        "id": "Fe-fbF0o339G"
      }
    },
    {
      "cell_type": "code",
      "source": [
        "import json \n",
        "with open(\"pred.json\", \"w\") as outfile:\n",
        "    json.dump(pred_dict, outfile)"
      ],
      "metadata": {
        "execution": {
          "iopub.status.busy": "2022-03-03T19:32:57.725569Z",
          "iopub.execute_input": "2022-03-03T19:32:57.725859Z",
          "iopub.status.idle": "2022-03-03T19:32:57.754979Z",
          "shell.execute_reply.started": "2022-03-03T19:32:57.725827Z",
          "shell.execute_reply": "2022-03-03T19:32:57.754256Z"
        },
        "trusted": true,
        "id": "A91toNMGwYkV"
      },
      "execution_count": null,
      "outputs": []
    },
    {
      "cell_type": "code",
      "source": [
        "with open(\"na_prob.json\", \"w\") as outfile:\n",
        "    json.dump(na_prob_dict, outfile)"
      ],
      "metadata": {
        "execution": {
          "iopub.status.busy": "2022-03-03T19:33:03.509765Z",
          "iopub.execute_input": "2022-03-03T19:33:03.510029Z",
          "iopub.status.idle": "2022-03-03T19:33:03.559693Z",
          "shell.execute_reply.started": "2022-03-03T19:33:03.509998Z",
          "shell.execute_reply": "2022-03-03T19:33:03.559060Z"
        },
        "trusted": true,
        "id": "KF5mdA85wYkW"
      },
      "execution_count": null,
      "outputs": []
    },
    {
      "cell_type": "code",
      "source": [
        "print(f\"Context: {validation_dataset[0]['context']}\\n\")\n",
        "for i in range(5):\n",
        "    print(f\"Question: {validation_dataset[i]['question']}\")\n",
        "    print(f\"Predicted answer: {pred_dict[validation_dataset[i]['id']]}\")\n",
        "    print(f\"Answers: {validation_dataset[i]['answers']['text']}\\n\")"
      ],
      "metadata": {
        "execution": {
          "iopub.status.busy": "2022-03-02T19:57:43.029598Z",
          "iopub.execute_input": "2022-03-02T19:57:43.030488Z",
          "iopub.status.idle": "2022-03-02T19:57:43.044965Z",
          "shell.execute_reply.started": "2022-03-02T19:57:43.030449Z",
          "shell.execute_reply": "2022-03-02T19:57:43.043823Z"
        },
        "trusted": true,
        "id": "6_8BrIN-wYkW"
      },
      "execution_count": null,
      "outputs": []
    },
    {
      "cell_type": "markdown",
      "source": [
        "Write the official evaluation"
      ],
      "metadata": {
        "id": "s7EWMq1wwYkW"
      }
    },
    {
      "cell_type": "code",
      "source": [
        "!wget https://worksheets.codalab.org/rest/bundles/0x6b567e1cf2e041ec80d7098f031c5c9e/contents/blob/ -O evaluation.py"
      ],
      "metadata": {
        "execution": {
          "iopub.status.busy": "2022-03-03T19:33:11.298986Z",
          "iopub.execute_input": "2022-03-03T19:33:11.299716Z",
          "iopub.status.idle": "2022-03-03T19:33:13.867619Z",
          "shell.execute_reply.started": "2022-03-03T19:33:11.299676Z",
          "shell.execute_reply": "2022-03-03T19:33:13.866575Z"
        },
        "trusted": true,
        "id": "fOJPVhH_wYkW",
        "outputId": "998f5367-0056-43f9-cd26-c69e9208cd73"
      },
      "execution_count": null,
      "outputs": [
        {
          "name": "stdout",
          "text": "huggingface/tokenizers: The current process just got forked, after parallelism has already been used. Disabling parallelism to avoid deadlocks...\nTo disable this warning, you can either:\n\t- Avoid using `tokenizers` before the fork if possible\n\t- Explicitly set the environment variable TOKENIZERS_PARALLELISM=(true | false)\n--2022-03-03 19:33:12--  https://worksheets.codalab.org/rest/bundles/0x6b567e1cf2e041ec80d7098f031c5c9e/contents/blob/\nResolving worksheets.codalab.org (worksheets.codalab.org)... 13.68.212.115\nConnecting to worksheets.codalab.org (worksheets.codalab.org)|13.68.212.115|:443... connected.\nHTTP request sent, awaiting response... 200 OK\nSyntax error in Set-Cookie: codalab_session=\"\"; expires=Thu, 01 Jan 1970 00:00:00 GMT; Max-Age=-1; Path=/ at position 70.\nLength: unspecified [text/x-python]\nSaving to: ‘evaluation.py’\n\nevaluation.py           [ <=>                ]  10.30K  --.-KB/s    in 0s      \n\n2022-03-03 19:33:13 (120 MB/s) - ‘evaluation.py’ saved [10547]\n\n",
          "output_type": "stream"
        }
      ]
    },
    {
      "cell_type": "code",
      "source": [
        "!wget https://rajpurkar.github.io/SQuAD-explorer/dataset/dev-v2.0.json -O dev-v2.0.json"
      ],
      "metadata": {
        "execution": {
          "iopub.status.busy": "2022-03-03T19:33:51.915705Z",
          "iopub.execute_input": "2022-03-03T19:33:51.916007Z",
          "iopub.status.idle": "2022-03-03T19:33:53.776370Z",
          "shell.execute_reply.started": "2022-03-03T19:33:51.915971Z",
          "shell.execute_reply": "2022-03-03T19:33:53.775497Z"
        },
        "trusted": true,
        "id": "ex7Mw-nCwYkW",
        "outputId": "f8cef92f-5695-4460-c79a-9f57f45677bb"
      },
      "execution_count": null,
      "outputs": [
        {
          "name": "stdout",
          "text": "huggingface/tokenizers: The current process just got forked, after parallelism has already been used. Disabling parallelism to avoid deadlocks...\nTo disable this warning, you can either:\n\t- Avoid using `tokenizers` before the fork if possible\n\t- Explicitly set the environment variable TOKENIZERS_PARALLELISM=(true | false)\n--2022-03-03 19:33:52--  https://rajpurkar.github.io/SQuAD-explorer/dataset/dev-v2.0.json\nResolving rajpurkar.github.io (rajpurkar.github.io)... 185.199.111.153, 185.199.108.153, 185.199.110.153, ...\nConnecting to rajpurkar.github.io (rajpurkar.github.io)|185.199.111.153|:443... connected.\nHTTP request sent, awaiting response... 200 OK\nLength: 4370528 (4.2M) [application/json]\nSaving to: ‘dev-v2.0.json’\n\ndev-v2.0.json       100%[===================>]   4.17M  --.-KB/s    in 0.08s   \n\n2022-03-03 19:33:53 (50.7 MB/s) - ‘dev-v2.0.json’ saved [4370528/4370528]\n\n",
          "output_type": "stream"
        }
      ]
    },
    {
      "cell_type": "code",
      "source": [
        "!python evaluation.py dev-v2.0.json pred.json --na-prob-file na_prob.json --na-prob-thresh 1 --out-image-dir ./"
      ],
      "metadata": {
        "execution": {
          "iopub.status.busy": "2022-03-02T19:06:20.814442Z",
          "iopub.execute_input": "2022-03-02T19:06:20.815515Z",
          "iopub.status.idle": "2022-03-02T19:06:26.329029Z",
          "shell.execute_reply.started": "2022-03-02T19:06:20.815437Z",
          "shell.execute_reply": "2022-03-02T19:06:26.327730Z"
        },
        "trusted": true,
        "id": "0ne0GMMmycp5",
        "outputId": "808e7ee4-7341-401c-eae7-8c0778a730c8"
      },
      "execution_count": null,
      "outputs": [
        {
          "name": "stdout",
          "text": "huggingface/tokenizers: The current process just got forked, after parallelism has already been used. Disabling parallelism to avoid deadlocks...\nTo disable this warning, you can either:\n\t- Avoid using `tokenizers` before the fork if possible\n\t- Explicitly set the environment variable TOKENIZERS_PARALLELISM=(true | false)\n{\n  \"exact\": 68.01145456076813,\n  \"f1\": 70.031884842807,\n  \"total\": 11873,\n  \"HasAns_exact\": 55.3306342780027,\n  \"HasAns_f1\": 59.37728892352334,\n  \"HasAns_total\": 5928,\n  \"NoAns_exact\": 80.6560134566863,\n  \"NoAns_f1\": 80.6560134566863,\n  \"NoAns_total\": 5945,\n  \"best_exact\": 68.02829950307421,\n  \"best_exact_thresh\": 0.4342222809791565,\n  \"best_f1\": 70.04872978511327,\n  \"best_f1_thresh\": 0.4342222809791565,\n  \"pr_exact_ap\": 34.938071259967515,\n  \"pr_f1_ap\": 40.40336353982701,\n  \"pr_oracle_ap\": 76.64267454519707\n}\n",
          "output_type": "stream"
        }
      ]
    }
  ]
}